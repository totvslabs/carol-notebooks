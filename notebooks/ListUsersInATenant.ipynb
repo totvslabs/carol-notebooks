{
  "cells": [
    {
      "cell_type": "markdown",
      "metadata": {
        "colab_type": "text",
        "id": "view-in-github"
      },
      "source": [
        "<a href=\"https://colab.research.google.com/github/totvslabs/carol-notebooks/blob/main/notebooks/ListUsersInATenant.ipynb\" target=\"_parent\"><img src=\"https://colab.research.google.com/assets/colab-badge.svg\" alt=\"Open In Colab\"/></a>"
      ]
    },
    {
      "cell_type": "markdown",
      "metadata": {
        "id": "94Lx9ZN-mEUm"
      },
      "source": [
        "## List Users in a Tenant\n",
        "`This notebook will list all users in a Tenant, showing their Ids, Logins and status.`\n",
        "`The script will ask for the following json on execution:`\n",
        "\n",
        "```python\n",
        "{\n",
        "    \"authentication_config\" : {\n",
        "        \"username\": \"username@totvs.com.br\",\n",
        "        \"password\": \"password\",\n",
        "        \"organization\": \"YourOrganization\",\n",
        "        \"tenantName\": \"YourTenantName\"\n",
        "    },\n",
        "    \"script_config\" : {\n",
        "    }\n",
        "}\n",
        "```\n",
        "`You need TENANT ADMIN permissions to run this script.`"
      ]
    },
    {
      "cell_type": "markdown",
      "metadata": {
        "id": "SGr8UMJAmTyL"
      },
      "source": [
        "#### REQUIREMENTS\n",
        "`These are the packages the script needs before execution.`"
      ]
    },
    {
      "cell_type": "code",
      "execution_count": null,
      "metadata": {
        "id": "xGCFQ_gkb7Gb"
      },
      "outputs": [],
      "source": [
        "%%capture\n",
        "!pip install --quiet pycarol==\"2.54.0\"\n",
        "!pip install --quiet urllib3==\"1.25.0\"\n",
        "from pycarol import PwdAuth, Carol\n",
        "import json, sys"
      ]
    },
    {
      "cell_type": "markdown",
      "metadata": {
        "id": "ZC9HGBm0oKQD"
      },
      "source": [
        "#### CAROL LOGIN FUNCTIONS\n",
        "`These are the functions made to login into Carol. They will be the same for all notebooks (ideally) and will use pyCarol.` \n",
        "\n",
        "[pyCarol reference](https://github.com/totvslabs/pyCarol)"
      ]
    },
    {
      "cell_type": "code",
      "execution_count": null,
      "metadata": {
        "id": "jtOSLY0wbwCR"
      },
      "outputs": [],
      "source": [
        "def carol_connect(username, password, organization, tenantName):\n",
        "    print(f\"Connecting to Carol tenant {tenantName}... \", end=\"\\n\")\n",
        "\n",
        "    return Carol(domain=tenantName,\n",
        "                auth=PwdAuth(username, password), organization=organization)"
      ]
    },
    {
      "cell_type": "markdown",
      "metadata": {
        "id": "QKirpB34P3RA"
      },
      "source": [
        "#### SCRIPT FUNCTIONS\n",
        "`If the script requires more functions to execute, they will be here.`"
      ]
    },
    {
      "cell_type": "code",
      "execution_count": null,
      "metadata": {
        "id": "1B7Zitlzjqwd"
      },
      "outputs": [],
      "source": [
        "def list_users(carolObject):\n",
        "    uri = f\"v3/users\"\n",
        "\n",
        "    try:\n",
        "        return carolObject.call_api(uri, \"GET\")\n",
        "    except:\n",
        "        return {\"error\" : str(sys.exc_info()[1])}"
      ]
    },
    {
      "cell_type": "markdown",
      "metadata": {
        "id": "NJXcZW9_oPP2"
      },
      "source": [
        "#### CONFIGURATION FILE\n",
        "`Now you will need to upload the configuration file with the format given above.`"
      ]
    },
    {
      "cell_type": "code",
      "execution_count": null,
      "metadata": {
        "id": "NOngnE5qb2kb"
      },
      "outputs": [],
      "source": [
        "try:\n",
        "    from google.colab import files\n",
        "    config_file = files.upload()\n",
        "    config_json = json.loads(config_file[next(iter(config_file))].decode(\"utf-8\"))\n",
        "    config_json_print = json.loads(config_file[next(iter(config_file))].decode(\"utf-8\"))\n",
        "except:\n",
        "    with open('./carol.json') as config_file:\n",
        "        config_json = json.loads(config_file.read())\n",
        "        config_json_print = json.loads(config_file.read())\n",
        "    config_file.close()\n",
        "finally:\n",
        "    del config_json_print['authentication_config']['password']\n",
        "    print(json.dumps(config_json_print, indent=2))"
      ]
    },
    {
      "cell_type": "markdown",
      "metadata": {
        "id": "73_5mMXgoWXH"
      },
      "source": [
        "#### SCRIPT EXECUTION\n",
        "`The main execution of the script will happen here.`"
      ]
    },
    {
      "cell_type": "code",
      "execution_count": null,
      "metadata": {
        "id": "pTQ7Hr0UjsD9"
      },
      "outputs": [],
      "source": [
        "Carol = carol_connect(\n",
        "    config_json['authentication_config']['username'], \n",
        "    config_json['authentication_config']['password'], \n",
        "    config_json['authentication_config']['organization'], \n",
        "    config_json['authentication_config']['tenantName'])\n",
        "\n",
        "for user in list_users(Carol)['hits']:\n",
        "    print(f'{user[\"mdmId\"]} - {user[\"mdmUserLogin\"]} - STATUS: {user[\"mdmTenantUserState\"]}')"
      ]
    }
  ],
  "metadata": {
    "colab": {
      "include_colab_link": true,
      "provenance": []
    },
    "kernelspec": {
      "display_name": "Python 3.9.6 64-bit",
      "language": "python",
      "name": "python3"
    },
    "language_info": {
      "codemirror_mode": {
        "name": "ipython",
        "version": 3
      },
      "file_extension": ".py",
      "mimetype": "text/x-python",
      "name": "python",
      "nbconvert_exporter": "python",
      "pygments_lexer": "ipython3",
      "version": "3.9.6"
    },
    "vscode": {
      "interpreter": {
        "hash": "31f2aee4e71d21fbe5cf8b01ff0e069b9275f58929596ceb00d14d90e3e16cd6"
      }
    }
  },
  "nbformat": 4,
  "nbformat_minor": 0
}
