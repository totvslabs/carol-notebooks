{
  "cells": [
    {
      "cell_type": "markdown",
      "metadata": {
        "id": "view-in-github",
        "colab_type": "text"
      },
      "source": [
        "<a href=\"https://colab.research.google.com/github/totvslabs/carol-notebooks/blob/main/notebooks/AccessAllTenants.ipynb\" target=\"_parent\"><img src=\"https://colab.research.google.com/assets/colab-badge.svg\" alt=\"Open In Colab\"/></a>"
      ]
    },
    {
      "cell_type": "markdown",
      "metadata": {
        "id": "94Lx9ZN-mEUm"
      },
      "source": [
        "## Grant Access to All Tenants Within an Organization\n",
        "`This notebook will grant you access to all Tenants within an Organization.`\n",
        "`The script will ask for the following json on execution:`\n",
        "\n",
        "```python\n",
        "{\n",
        "    \"authentication_config\" : {\n",
        "        \"username\": \"username@totvs.com.br\",\n",
        "        \"password\": \"password\",\n",
        "        \"organization\": \"YourOrganization\",\n",
        "    },\n",
        "    \"script_config\" : {\n",
        "        \"role\": \"userRole\",\n",
        "        \"emails\": [\n",
        "          \"username@totvs.com.br\",\n",
        "          \"username@totvs.com.br\",\n",
        "          \"username@totvs.com.br\"\n",
        "        ]\n",
        "    }\n",
        "}\n",
        "```\n",
        "`You need ORGANIZATION ADMIN permissions to run this script.`"
      ]
    },
    {
      "cell_type": "markdown",
      "metadata": {
        "id": "SGr8UMJAmTyL"
      },
      "source": [
        "#### REQUIREMENTS\n",
        "`These are the packages the script needs before execution.`"
      ]
    },
    {
      "cell_type": "code",
      "execution_count": 42,
      "metadata": {
        "id": "xGCFQ_gkb7Gb"
      },
      "outputs": [],
      "source": [
        "%%capture\n",
        "!pip install --quiet pycarol\n",
        "from pycarol import PwdAuth, Carol\n",
        "import json"
      ]
    },
    {
      "cell_type": "markdown",
      "metadata": {
        "id": "ZC9HGBm0oKQD"
      },
      "source": [
        "#### CAROL LOGIN FUNCTIONS\n",
        "`These are the functions made to login into Carol. They will be the same for all notebooks (ideally) and will use pyCarol.` \n",
        "\n",
        "[pyCarol reference](https://github.com/totvslabs/pyCarol)"
      ]
    },
    {
      "cell_type": "code",
      "execution_count": 43,
      "metadata": {
        "id": "jtOSLY0wbwCR"
      },
      "outputs": [],
      "source": [
        "def carol_connect(username, password, organization):\n",
        "    print(f\"Connecting to Carol org {organization}... \", end=\"\\n\")\n",
        "\n",
        "    return Carol(auth=PwdAuth(username, password), org_level=True, organization=organization)"
      ]
    },
    {
      "cell_type": "markdown",
      "metadata": {
        "id": "QKirpB34P3RA"
      },
      "source": [
        "#### SCRIPT FUNCTIONS\n",
        "`If the script requires more functions to execute, they will be here.`"
      ]
    },
    {
      "cell_type": "markdown",
      "metadata": {
        "id": "NJXcZW9_oPP2"
      },
      "source": [
        "#### CONFIGURATION FILE\n",
        "`Now you will need to upload the configuration file with the format given above.`"
      ]
    },
    {
      "cell_type": "code",
      "execution_count": null,
      "metadata": {
        "id": "NOngnE5qb2kb"
      },
      "outputs": [],
      "source": [
        "try:\n",
        "    from google.colab import files\n",
        "    config_file = files.upload()\n",
        "    config_json = json.loads(config_file[next(iter(config_file))].decode(\"utf-8\"))\n",
        "    config_json_print = json.loads(config_file[next(iter(config_file))].decode(\"utf-8\"))\n",
        "except:\n",
        "    with open('./carol.json') as config_file:\n",
        "        config_json = json.loads(config_file.read())\n",
        "        config_json_print = json.loads(config_file.read())\n",
        "    config_file.close()\n",
        "finally:\n",
        "    del config_json_print['authentication_config']['password']\n",
        "    print(json.dumps(config_json_print, indent=2))"
      ]
    },
    {
      "cell_type": "markdown",
      "metadata": {
        "id": "73_5mMXgoWXH"
      },
      "source": [
        "#### SCRIPT EXECUTION\n",
        "`The main execution of the script will happen here.`"
      ]
    },
    {
      "cell_type": "code",
      "execution_count": null,
      "metadata": {
        "id": "GEbznO71iS_v"
      },
      "outputs": [],
      "source": [
        "Carol = carol_connect(\n",
        "    config_json['authentication_config']['username'], \n",
        "    config_json['authentication_config']['password'], \n",
        "    config_json['authentication_config']['organization'])\n",
        "\n",
        "# Add user into the tenants\n",
        "org_id = Carol._current_org()['mdmId']\n",
        "all_tenants = Carol.call_api(f'v1/organizations/{org_id}/allTenants', 'GET')\n",
        "for tenant in all_tenants:\n",
        "    role = config_json['script_config']['role']\n",
        "    emails = config_json['script_config']['emails']\n",
        "    for email in emails:\n",
        "        tenant_name = tenant['mdmName']\n",
        "        tenant_id = tenant['mdmId']\n",
        "        data = {tenant_name:[{\"mdmUserLogin\":email,\"mdmRoleNames\":[role]}]}\n",
        "        q = {\n",
        "        \"mustList\": [\n",
        "            {\n",
        "            \"mdmFilterType\": \"TERM_FILTER\",\n",
        "            \"mdmKey\": \"mdmUserLogin.raw\",\n",
        "            \"mdmValue\": email\n",
        "            }\n",
        "        ],\n",
        "        \"shouldList\": [\n",
        "        ]\n",
        "        }\n",
        "        extra_headers = {'overriddentenantid': tenant_id} \n",
        "        params = dict(   \n",
        "            indexType='CONFIG', \n",
        "            scrollable=False,\n",
        "            pageSize=-1,\n",
        "        )\n",
        "        result = Carol.call_api(\"v1/users/filterUsers\", 'POST', data = q,  params=params, extra_headers=extra_headers )\n",
        "        if len(result['hits'])==0:\n",
        "            print(f'adding {email} to {tenant_name}')\n",
        "            Carol.call_api('v1/organizations/assignUsersToEnvironments', 'POST', data = data )"
      ]
    }
  ],
  "metadata": {
    "colab": {
      "provenance": [],
      "include_colab_link": true
    },
    "kernelspec": {
      "display_name": "Python 3.9.6 64-bit",
      "language": "python",
      "name": "python3"
    },
    "language_info": {
      "codemirror_mode": {
        "name": "ipython",
        "version": 3
      },
      "file_extension": ".py",
      "mimetype": "text/x-python",
      "name": "python",
      "nbconvert_exporter": "python",
      "pygments_lexer": "ipython3",
      "version": "3.9.6"
    },
    "vscode": {
      "interpreter": {
        "hash": "31f2aee4e71d21fbe5cf8b01ff0e069b9275f58929596ceb00d14d90e3e16cd6"
      }
    }
  },
  "nbformat": 4,
  "nbformat_minor": 0
}