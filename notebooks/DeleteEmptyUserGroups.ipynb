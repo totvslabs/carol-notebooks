{
  "cells": [
    {
      "cell_type": "markdown",
      "metadata": {
        "colab_type": "text",
        "id": "view-in-github"
      },
      "source": [
        "<a href=\"https://colab.research.google.com/github/totvslabs/carol-notebooks/blob/main/notebooks/DeleteEmptyUserGroups.ipynb\" target=\"_parent\"><img src=\"https://colab.research.google.com/assets/colab-badge.svg\" alt=\"Open In Colab\"/></a>"
      ]
    },
    {
      "cell_type": "markdown",
      "metadata": {
        "id": "94Lx9ZN-mEUm"
      },
      "source": [
        "## Delete Empty User Groups\n",
        "`This notebook will delete empty user groups within a tenant.`\n",
        "`The script will ask for the following json on execution:`\n",
        "\n",
        "```python\n",
        "{\n",
        "    \"authentication_config\" : {\n",
        "        \"username\": \"username@totvs.com.br\",\n",
        "        \"password\": \"password\",\n",
        "        \"organization\": \"YourOrganization\",\n",
        "        \"tenantName\": \"YourTenantName\"\n",
        "    },\n",
        "    \"script_config\" : {\n",
        "        \"carolApp\": \"YourCarolAppName\"\n",
        "    }\n",
        "}\n",
        "```\n",
        "`You need TENANT ADMIN permissions to run this script.`"
      ]
    },
    {
      "cell_type": "markdown",
      "metadata": {
        "id": "SGr8UMJAmTyL"
      },
      "source": [
        "#### REQUIREMENTS\n",
        "`These are the packages the script needs before execution.`"
      ]
    },
    {
      "cell_type": "code",
      "execution_count": null,
      "metadata": {
        "id": "xGCFQ_gkb7Gb"
      },
      "outputs": [],
      "source": [
        "%%capture\n",
        "!pip install --quiet pycarol[dataframe]\n",
        "!pip install --quiet pyarrow\n",
        "!pip install --quiet python-dotenv\n",
        "!pip install --quiet curlify\n",
        "!pip install --quiet git+https://github.com/jnefoussi/pytechfin.git\n",
        "\n",
        "import json, os\n",
        "from pycarol import Carol, ApiKeyAuth, PwdAuth, Staging, DataModel\n",
        "from pycarol import Storage, Connectors\n",
        "import pandas as pd\n",
        "import numpy as np\n",
        "from pycarol.utils.miscellaneous import drop_duplicated_parquet"
      ]
    },
    {
      "cell_type": "markdown",
      "metadata": {
        "id": "ZC9HGBm0oKQD"
      },
      "source": [
        "#### CAROL LOGIN FUNCTIONS\n",
        "`These are the functions made to login into Carol. They will be the same for all notebooks (ideally) and will use pyCarol.` \n",
        "\n",
        "[pyCarol reference](https://github.com/totvslabs/pyCarol)"
      ]
    },
    {
      "cell_type": "code",
      "execution_count": null,
      "metadata": {
        "id": "jtOSLY0wbwCR"
      },
      "outputs": [],
      "source": [
        "def carol_connect(username, password, organization, tenantName):\n",
        "    print(f\"Connecting to Carol tenant {tenantName}... \", end=\"\\n\")\n",
        "\n",
        "    return Carol(domain=tenantName,\n",
        "                auth=PwdAuth(username, password), organization=organization)"
      ]
    },
    {
      "cell_type": "markdown",
      "metadata": {
        "id": "QKirpB34P3RA"
      },
      "source": [
        "#### SCRIPT FUNCTIONS\n",
        "`If the script requires more functions to execute, they will be here.`"
      ]
    },
    {
      "cell_type": "code",
      "execution_count": null,
      "metadata": {
        "id": "Li1PeGgkeIpn"
      },
      "outputs": [],
      "source": [
        "def list_groups(login, params):\n",
        "  return login.call_api(\n",
        "          \"v3/userGroup\",\n",
        "          method=\"GET\",\n",
        "          content_type=\"application/x-www-form-urlencoded\",\n",
        "          params=params)\n",
        "\n",
        "def list_users(login, mdmGroupId):\n",
        "  query_params_users = {\"pageSize\": 0}\n",
        "  body = {\"mustList\":[{\"mdmFilterType\":\"TYPE_FILTER\",\"mdmValue\":\"mdmTenantUser\"},{\"mdmFilterType\":\"TERM_FILTER\",\"mdmKey\":\"mdmUserGroupsIds\",\"mdmValue\":mdmGroupId}]}\n",
        "  return login.call_api(\n",
        "      \"v1/users/filterUsers\",\n",
        "      method=\"POST\",\n",
        "      content_type=\"application/json\",\n",
        "      params=query_params,\n",
        "      data=body\n",
        "  )\n",
        "\n",
        "def delete_group(mdmGroupId):\n",
        "    return login.call_api(\n",
        "          \"v3/userGroup/\"+mdmGroupId,\n",
        "          method=\"DELETE\",\n",
        "          content_type=\"application/json\")"
      ]
    },
    {
      "cell_type": "markdown",
      "metadata": {
        "id": "NJXcZW9_oPP2"
      },
      "source": [
        "#### CONFIGURATION FILE\n",
        "`Now you will need to upload the configuration file with the format given above.`"
      ]
    },
    {
      "cell_type": "code",
      "execution_count": null,
      "metadata": {
        "id": "NOngnE5qb2kb"
      },
      "outputs": [],
      "source": [
        "try:\n",
        "    from google.colab import files\n",
        "    config_file = files.upload()\n",
        "    config_json = json.loads(config_file[next(iter(config_file))].decode(\"utf-8\"))\n",
        "    config_json_print = json.loads(config_file[next(iter(config_file))].decode(\"utf-8\"))\n",
        "except:\n",
        "    with open('./carol.json') as config_file:\n",
        "        config_json = json.loads(config_file.read())\n",
        "        config_json_print = json.loads(config_file.read())\n",
        "    config_file.close()\n",
        "finally:\n",
        "    del config_json_print['authentication_config']['password']\n",
        "    print(json.dumps(config_json_print, indent=2))"
      ]
    },
    {
      "cell_type": "markdown",
      "metadata": {
        "id": "73_5mMXgoWXH"
      },
      "source": [
        "#### SCRIPT EXECUTION\n",
        "`The main execution of the script will happen here.`"
      ]
    },
    {
      "cell_type": "code",
      "execution_count": null,
      "metadata": {
        "id": "HZdq-AE2ePMm"
      },
      "outputs": [],
      "source": [
        "Carol = carol_connect(\n",
        "    config_json['authentication_config']['username'], \n",
        "    config_json['authentication_config']['password'], \n",
        "    config_json['authentication_config']['organization'], \n",
        "    config_json['authentication_config']['tenantName'])\n",
        "\n",
        "keep = []\n",
        "remove = []\n",
        "next_query = True\n",
        "counter = -1\n",
        "offset = 0\n",
        "pageSize = 500\n",
        "query_params = {\"offset\": offset, \"pageSize\": pageSize}\n",
        "\n",
        "\n",
        "# Guardando os grupos sem usuários que serão removidos\n",
        "while(next_query):\n",
        "  # Consulta de grupos\n",
        "  resp = list_groups(Carol,query_params)\n",
        "  if (resp['hits'] and len(resp['hits']) > 0 ):\n",
        "    for group in resp['hits'] :\n",
        "      # Consulta usuários\n",
        "      resp_users = list_users(Carol,group['mdmId'])\n",
        "      if resp_users['totalHits'] == 0:\n",
        "        # Grupo sem usuário\n",
        "        remove.append(group)\n",
        "      else:\n",
        "        keep.append(group)\n",
        "  # Atualização do contador\n",
        "  if(counter == -1):\n",
        "    counter = resp['count']\n",
        "  else:\n",
        "    counter = counter + resp['count']\n",
        "  # Atualizando a condição de parada e indice de busca na paginação\n",
        "  total_hits = resp['totalHits']\n",
        "  if(total_hits and total_hits > 0):\n",
        "    if(total_hits == counter):\n",
        "      next_query = False  \n",
        "    else:\n",
        "      offset = counter\n",
        "      query_params = {\"offset\": offset, \"pageSize\": pageSize}\n",
        "  else:\n",
        "    next_query = False\n",
        "\n",
        "#Remoção de grupos\n",
        "for group in remove:\n",
        "  try:\n",
        "    result = delete_group(group['mdmId'])\n",
        "    #  print(result)\n",
        "    if result['success']:\n",
        "      print('Grupo '+ group['mdmName'] + ' removido com sucesso.')\n",
        "  except:\n",
        "    print('ERRO ao remover grupo '+ group['mdmName'] )"
      ]
    }
  ],
  "metadata": {
    "colab": {
      "include_colab_link": true,
      "provenance": []
    },
    "kernelspec": {
      "display_name": "Python 3.9.6 64-bit",
      "language": "python",
      "name": "python3"
    },
    "language_info": {
      "codemirror_mode": {
        "name": "ipython",
        "version": 3
      },
      "file_extension": ".py",
      "mimetype": "text/x-python",
      "name": "python",
      "nbconvert_exporter": "python",
      "pygments_lexer": "ipython3",
      "version": "3.9.6"
    },
    "vscode": {
      "interpreter": {
        "hash": "31f2aee4e71d21fbe5cf8b01ff0e069b9275f58929596ceb00d14d90e3e16cd6"
      }
    }
  },
  "nbformat": 4,
  "nbformat_minor": 0
}
