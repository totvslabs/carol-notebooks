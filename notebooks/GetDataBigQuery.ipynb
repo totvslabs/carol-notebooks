{
  "cells": [
    {
      "cell_type": "markdown",
      "metadata": {
        "colab_type": "text",
        "id": "view-in-github"
      },
      "source": [
        "<a href=\"https://colab.research.google.com/github/totvslabs/carol-notebooks/blob/main/notebooks/GetDataBigQuery.ipynb\" target=\"_parent\"><img src=\"https://colab.research.google.com/assets/colab-badge.svg\" alt=\"Open In Colab\"/></a>"
      ]
    },
    {
      "cell_type": "markdown",
      "metadata": {
        "id": "94Lx9ZN-mEUm"
      },
      "source": [
        "## Carol Get Data from BQ\n",
        "`This script will query a datamodel in BQ and will return the result in a dataframe.`\n",
        "`The script will ask for the following json on execution:`\n",
        "\n",
        "```python\n",
        "{\n",
        "    \"authentication_config\" : {\n",
        "        \"username\": \"username@totvs.com.br\",\n",
        "        \"password\": \"password\",\n",
        "        \"organization\": \"YourOrganization\",\n",
        "        \"tenantName\": \"YourTenantName\"\n",
        "    },\n",
        "    \"script_config\" : {\n",
        "        \"datamodels\": [\n",
        "          \"datamodel1\",\n",
        "          \"datamodel2\",\n",
        "          \"datamodel3\"\n",
        "        ]\n",
        "    }\n",
        "}\n",
        "```\n",
        "`You need TENANT ADMIN permissions to run this script.`"
      ]
    },
    {
      "cell_type": "markdown",
      "metadata": {
        "id": "SGr8UMJAmTyL"
      },
      "source": [
        "#### REQUIREMENTS\n",
        "`These are the packages the script needs before execution.`"
      ]
    },
    {
      "cell_type": "code",
      "execution_count": null,
      "metadata": {
        "id": "xGCFQ_gkb7Gb"
      },
      "outputs": [],
      "source": [
        "%%capture\n",
        "!pip install --quiet \"pycarol==2.54.9\" \n",
        "from google.colab import files\n",
        "import json, os, sys\n",
        "from google.api_core import exceptions\n",
        "from google.cloud import bigquery\n",
        "from google.oauth2.service_account import Credentials\n",
        "import pycarol"
      ]
    },
    {
      "cell_type": "markdown",
      "metadata": {
        "id": "ZC9HGBm0oKQD"
      },
      "source": [
        "#### CAROL LOGIN FUNCTIONS\n",
        "`These are the functions made to login into Carol. They will be the same for all notebooks (ideally) and will use pyCarol.` \n",
        "\n",
        "[pyCarol reference](https://github.com/totvslabs/pyCarol)"
      ]
    },
    {
      "cell_type": "code",
      "execution_count": null,
      "metadata": {
        "id": "jtOSLY0wbwCR"
      },
      "outputs": [],
      "source": [
        "def carol_connect(username, password, organization, tenantName):\n",
        "    print(f\"Connecting to Carol tenant {tenantName}... \", end=\"\\n\")\n",
        "\n",
        "    return pycarol.Carol(domain=tenantName,\n",
        "                auth=pycarol.PwdAuth(username, password), organization=organization)"
      ]
    },
    {
      "cell_type": "markdown",
      "metadata": {
        "id": "QKirpB34P3RA"
      },
      "source": [
        "#### SCRIPT FUNCTIONS\n",
        "`If the script requires more functions to execute, they will be here.`"
      ]
    },
    {
      "cell_type": "code",
      "execution_count": null,
      "metadata": {
        "id": "srmIxjDjjHEe"
      },
      "outputs": [],
      "source": [
        "def get_data_bq(carolObject, datamodel):\n",
        "    credentials = pycarol.bigquery.BQ(Carol).get_credential()\n",
        "\n",
        "    environment = Carol.get_current()[\"env_id\"]\n",
        "    project=f\"carol-{environment[0:20]}\"\n",
        "    dataset=f\"{project}.{environment}\"\n",
        "\n",
        "    service_account = Credentials.from_service_account_info(credentials['service_account'])\n",
        "    bq = bigquery.Client(project=project, credentials=service_account)\n",
        "    config = bigquery.QueryJobConfig(priority=\"BATCH\", default_dataset=dataset)\n",
        "\n",
        "    sql = f\"\"\"\n",
        "    SELECT * EXCEPT(mdmCounterForEntity__DATETIME__,mdmCounterForEntity,mdmStagingCounter,mdmId,mdmCreated,mdmLastUpdated,mdmTenantId,mdmEntityType,mdmSourceEntityNames,mdmCrosswalk,mdmStagingRecord,mdmApplicationIdMasterRecordId,mdmPreviousIds,mdmDeleted),\n",
        "    FROM `{dataset}`.{datamodel}\n",
        "    \"\"\"\n",
        "\n",
        "    try:\n",
        "        result = (\n",
        "            bq.query(sql, config)\n",
        "            .result()\n",
        "            .to_dataframe(\n",
        "                create_bqstorage_client=True,\n",
        "            )\n",
        "        )\n",
        "        result.to_csv(f'./{datamodel}.csv', index=False)\n",
        "        print(f'result of table `{dataset}`.{datamodel} extracted to ./{datamodel}.csv')\n",
        "        return(result)\n",
        "\n",
        "    except exceptions.ClientError:\n",
        "        print({\"error\" : str(sys.exc_info()[1])})\n",
        "        return({\"error\" : str(sys.exc_info()[1])})"
      ]
    },
    {
      "cell_type": "markdown",
      "metadata": {
        "id": "NJXcZW9_oPP2"
      },
      "source": [
        "#### CONFIGURATION FILE\n",
        "`Now you will need to upload the configuration file with the format given above.`"
      ]
    },
    {
      "cell_type": "code",
      "execution_count": null,
      "metadata": {
        "id": "NOngnE5qb2kb"
      },
      "outputs": [],
      "source": [
        "try:\n",
        "    config_file = files.upload()\n",
        "    config_json = json.loads(config_file[next(iter(config_file))].decode(\"utf-8\"))\n",
        "except:\n",
        "    with open('./carol.json') as config_file:\n",
        "        config_json = json.loads(config_file.read())\n",
        "    config_file.close()"
      ]
    },
    {
      "cell_type": "markdown",
      "metadata": {
        "id": "73_5mMXgoWXH"
      },
      "source": [
        "#### SCRIPT EXECUTION\n",
        "`The main execution of the script will happen here.`"
      ]
    },
    {
      "cell_type": "code",
      "execution_count": null,
      "metadata": {
        "id": "koQfTo_6jI-P"
      },
      "outputs": [],
      "source": [
        "Carol = carol_connect(\n",
        "    config_json['authentication_config']['username'], \n",
        "    config_json['authentication_config']['password'], \n",
        "    config_json['authentication_config']['organization'], \n",
        "    config_json['authentication_config']['tenantName'])\n",
        "\n",
        "print('If you are using Google Colaboratory, remember to refresh the contents of working folder after script execution!')\n",
        "\n",
        "for datamodel in config_json['script_config']['datamodels']:\n",
        "    get_data_bq(Carol, datamodel)"
      ]
    }
  ],
  "metadata": {
    "colab": {
      "include_colab_link": true,
      "provenance": []
    },
    "kernelspec": {
      "display_name": "Python 3.9.6 64-bit",
      "language": "python",
      "name": "python3"
    },
    "language_info": {
      "codemirror_mode": {
        "name": "ipython",
        "version": 3
      },
      "file_extension": ".py",
      "mimetype": "text/x-python",
      "name": "python",
      "nbconvert_exporter": "python",
      "pygments_lexer": "ipython3",
      "version": "3.9.6"
    },
    "vscode": {
      "interpreter": {
        "hash": "31f2aee4e71d21fbe5cf8b01ff0e069b9275f58929596ceb00d14d90e3e16cd6"
      }
    }
  },
  "nbformat": 4,
  "nbformat_minor": 0
}
