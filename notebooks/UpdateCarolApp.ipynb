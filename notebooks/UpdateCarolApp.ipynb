{
  "cells": [
    {
      "cell_type": "markdown",
      "metadata": {
        "id": "view-in-github",
        "colab_type": "text"
      },
      "source": [
        "<a href=\"https://colab.research.google.com/github/totvslabs/carol-notebooks/blob/main/notebooks/UpdateCarolApp.ipynb\" target=\"_parent\"><img src=\"https://colab.research.google.com/assets/colab-badge.svg\" alt=\"Open In Colab\"/></a>"
      ]
    },
    {
      "cell_type": "markdown",
      "metadata": {
        "id": "94Lx9ZN-mEUm"
      },
      "source": [
        "## Update Carol App\n",
        "`This notebook will update a Carol App to the latest version in the given tenants. To complete the installation process you will need to run the second notebook called \"Subscribe Carol App\" after installations were successful.`\n",
        "`The script will ask for the following json on execution:`\n",
        "\n",
        "```python\n",
        "{\n",
        "    \"authentication_config\" : {\n",
        "        \"username\": \"username@totvs.com.br\",\n",
        "        \"password\": \"password\",\n",
        "        \"organization\": \"YourOrganization\",\n",
        "        \"tenantName\": \"YourTenantName\"\n",
        "    },\n",
        "    \"script_config\" : {\n",
        "        \"carolAppName\": \"myCarolAppName\",\n",
        "        \"carolAppId\": \"carolAppIdFromDevTenant\",\n",
        "        \"latestVersion\": \"0.0.32\",\n",
        "        \"tenantsToUpdate\": [\n",
        "          \"tenant1\",\n",
        "          \"tenant2\"\n",
        "        ]\n",
        "    }\n",
        "}\n",
        "```\n",
        "`You need TENANT ADMIN permissions to run this script.`"
      ]
    },
    {
      "cell_type": "markdown",
      "metadata": {
        "id": "SGr8UMJAmTyL"
      },
      "source": [
        "#### REQUIREMENTS\n",
        "`These are the packages the script needs before execution.`"
      ]
    },
    {
      "cell_type": "code",
      "execution_count": null,
      "metadata": {
        "id": "xGCFQ_gkb7Gb"
      },
      "outputs": [],
      "source": [
        "%%capture\n",
        "!pip install --quiet pycarol\n",
        "from pycarol import PwdAuth, Carol\n",
        "import json, sys"
      ]
    },
    {
      "cell_type": "markdown",
      "metadata": {
        "id": "ZC9HGBm0oKQD"
      },
      "source": [
        "#### CAROL LOGIN FUNCTIONS\n",
        "`These are the functions made to login into Carol. They will be the same for all notebooks (ideally) and will use pyCarol.` \n",
        "\n",
        "[pyCarol reference](https://github.com/totvslabs/pyCarol)"
      ]
    },
    {
      "cell_type": "code",
      "execution_count": null,
      "metadata": {
        "id": "jtOSLY0wbwCR"
      },
      "outputs": [],
      "source": [
        "def carol_connect(username, password, organization, tenantName):\n",
        "    print(f\"Connecting to Carol tenant {tenantName}... \", end=\"\\n\")\n",
        "\n",
        "    return Carol(domain=tenantName,\n",
        "                auth=PwdAuth(username, password), organization=organization)"
      ]
    },
    {
      "cell_type": "markdown",
      "metadata": {
        "id": "QKirpB34P3RA"
      },
      "source": [
        "#### SCRIPT FUNCTIONS\n",
        "`If the script requires more functions to execute, they will be here.`"
      ]
    },
    {
      "cell_type": "code",
      "source": [
        "def check_installed_apps(carolObject):\n",
        "    uri = f\"v1/tenantApps?pageSize=-1\"\n",
        "\n",
        "    try:\n",
        "        return carolObject.call_api(uri, \"GET\")\n",
        "    except:\n",
        "        return {\"error\" : str(sys.exc_info()[1])}\n",
        "\n",
        "def subscribe_app(carolAppId, carolObject):\n",
        "    uri = f\"v3/tenantApps/subscribe/carolApps/{carolAppId}\"\n",
        "\n",
        "    try:\n",
        "        return carolObject.call_api(uri, \"POST\")\n",
        "    except:\n",
        "        return {\"error\" : str(sys.exc_info()[1])}"
      ],
      "metadata": {
        "id": "Ri8l1ItWtr_f"
      },
      "execution_count": null,
      "outputs": []
    },
    {
      "cell_type": "markdown",
      "metadata": {
        "id": "NJXcZW9_oPP2"
      },
      "source": [
        "#### CONFIGURATION FILE\n",
        "`Now you will need to upload the configuration file with the format given above.`"
      ]
    },
    {
      "cell_type": "code",
      "execution_count": null,
      "metadata": {
        "id": "NOngnE5qb2kb"
      },
      "outputs": [],
      "source": [
        "try:\n",
        "    from google.colab import files\n",
        "    config_file = files.upload()\n",
        "    config_json = json.loads(config_file[next(iter(config_file))].decode(\"utf-8\"))\n",
        "    config_json_print = json.loads(config_file[next(iter(config_file))].decode(\"utf-8\"))\n",
        "except:\n",
        "    with open('./carol.json') as config_file:\n",
        "        config_json = json.loads(config_file.read())\n",
        "        config_json_print = json.loads(config_file.read())\n",
        "    config_file.close()\n",
        "finally:\n",
        "    del config_json_print['authentication_config']['password']\n",
        "    print(json.dumps(config_json_print, indent=2))"
      ]
    },
    {
      "cell_type": "markdown",
      "metadata": {
        "id": "73_5mMXgoWXH"
      },
      "source": [
        "#### SCRIPT EXECUTION\n",
        "`The main execution of the script will happen here.`"
      ]
    },
    {
      "cell_type": "code",
      "source": [
        "for tenant in config_json['script_config']['tenantsToUpdate']:\n",
        "    print(f'Starting process for {tenant}...')\n",
        "\n",
        "    Carol = carol_connect(\n",
        "    config_json['authentication_config']['username'], \n",
        "    config_json['authentication_config']['password'], \n",
        "    config_json['authentication_config']['organization'], \n",
        "    tenant)\n",
        "\n",
        "    apps_installed = check_installed_apps(Carol)\n",
        "    print(apps_installed)\n",
        "    if apps_installed['count'] > 0:\n",
        "      for app in apps_installed['hits']:\n",
        "        if app['mdmName'] == config_json['script_config']['carolAppName'] and app['mdmInstallationTaskStatus'] == 'COMPLETED' and app['mdmAppVersion'] != config_json['script_config']['latestVersion']:\n",
        "          try:\n",
        "            subscribe_app(config_json['script_config']['carolAppId'], Carol)\n",
        "            print(f'Tenant {tenant} subscribed app {app[\"mdmName\"]} version {app[\"mdmAppVersion\"]}!! Use the other notebook to publish it after installation!')\n",
        "          except:\n",
        "            print(f'Something went wrong... e.g: Installation not completed, wrong version of CarolApp...')\n"
      ],
      "metadata": {
        "id": "ySIOBMCpvac1"
      },
      "execution_count": null,
      "outputs": []
    }
  ],
  "metadata": {
    "colab": {
      "provenance": [],
      "include_colab_link": true
    },
    "kernelspec": {
      "display_name": "Python 3.9.6 64-bit",
      "language": "python",
      "name": "python3"
    },
    "language_info": {
      "codemirror_mode": {
        "name": "ipython",
        "version": 3
      },
      "file_extension": ".py",
      "mimetype": "text/x-python",
      "name": "python",
      "nbconvert_exporter": "python",
      "pygments_lexer": "ipython3",
      "version": "3.9.6"
    },
    "vscode": {
      "interpreter": {
        "hash": "31f2aee4e71d21fbe5cf8b01ff0e069b9275f58929596ceb00d14d90e3e16cd6"
      }
    }
  },
  "nbformat": 4,
  "nbformat_minor": 0
}