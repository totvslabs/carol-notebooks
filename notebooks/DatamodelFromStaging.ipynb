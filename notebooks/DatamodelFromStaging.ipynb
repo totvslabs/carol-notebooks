{
  "cells": [
    {
      "cell_type": "markdown",
      "metadata": {
        "id": "view-in-github",
        "colab_type": "text"
      },
      "source": [
        "<a href=\"https://colab.research.google.com/github/totvslabs/carol-notebooks/blob/main/notebooks/DatamodelFromStaging.ipynb\" target=\"_parent\"><img src=\"https://colab.research.google.com/assets/colab-badge.svg\" alt=\"Open In Colab\"/></a>"
      ]
    },
    {
      "cell_type": "markdown",
      "metadata": {
        "id": "94Lx9ZN-mEUm"
      },
      "source": [
        "## Carol Create Datamodel from Staging table\n",
        "`This script will create a datamodel using Staging table fields. Fields already created in the platform but with diferent data types will not be created in the datamodel.`\n",
        "`The script will ask for the following json on execution:`\n",
        "\n",
        "```python\n",
        "{\n",
        "    \"authentication_config\" : {\n",
        "        \"username\": \"username@totvs.com.br\",\n",
        "        \"password\": \"password\",\n",
        "        \"organization\": \"YourOrganization\",\n",
        "        \"tenantName\": \"YourTenantName\"\n",
        "    },\n",
        "    \"script_config\" : {\n",
        "        \"staging\": \"stg_myconnector_mystaging\",\n",
        "        \"datamodel\": \"TargetDatamodelName\",\n",
        "        \"profile_title\": \"DatamodelPK\"\n",
        "    }\n",
        "}\n",
        "```\n",
        "`You need TENANT ADMIN permissions to run this script.`"
      ]
    },
    {
      "cell_type": "markdown",
      "metadata": {
        "id": "SGr8UMJAmTyL"
      },
      "source": [
        "#### REQUIREMENTS\n",
        "`These are the packages the script needs before execution.`"
      ]
    },
    {
      "cell_type": "code",
      "execution_count": 28,
      "metadata": {
        "id": "xGCFQ_gkb7Gb"
      },
      "outputs": [],
      "source": [
        "%%capture\n",
        "!pip install --quiet pycarol==\"2.54.18\"\n",
        "import json, os, sys\n",
        "from google.api_core import exceptions\n",
        "from google.cloud import bigquery\n",
        "from google.oauth2.service_account import Credentials\n",
        "import pycarol\n",
        "from pycarol.tools.data_model_generator import DataModelGenerator"
      ]
    },
    {
      "cell_type": "markdown",
      "metadata": {
        "id": "ZC9HGBm0oKQD"
      },
      "source": [
        "#### CAROL LOGIN FUNCTIONS\n",
        "`These are the functions made to login into Carol. They will be the same for all notebooks (ideally) and will use pyCarol.`\n",
        "\n",
        "[pyCarol reference](https://github.com/totvslabs/pyCarol)"
      ]
    },
    {
      "cell_type": "code",
      "execution_count": 29,
      "metadata": {
        "id": "jtOSLY0wbwCR"
      },
      "outputs": [],
      "source": [
        "def carol_connect(username, password, organization, tenantName):\n",
        "    print(f\"Connecting to Carol tenant {tenantName}... \", end=\"\\n\")\n",
        "\n",
        "    return pycarol.Carol(domain=tenantName,\n",
        "                auth=pycarol.PwdAuth(username, password), organization=organization)"
      ]
    },
    {
      "cell_type": "markdown",
      "metadata": {
        "id": "QKirpB34P3RA"
      },
      "source": [
        "#### SCRIPT FUNCTIONS\n",
        "`If the script requires more functions to execute, they will be here.`"
      ]
    },
    {
      "cell_type": "code",
      "execution_count": 30,
      "metadata": {
        "id": "srmIxjDjjHEe"
      },
      "outputs": [],
      "source": [
        "def get_data_bq(carolObject, staging):\n",
        "    credentials = pycarol.bigquery.TokenManager(carolObject).get_token().to_dict()\n",
        "\n",
        "    environment = carolObject.get_current()[\"env_id\"]\n",
        "    project=f\"carol-{environment[0:20]}\"\n",
        "    dataset=f\"{project}.{environment}\"\n",
        "\n",
        "    service_account = Credentials.from_service_account_info(credentials['service_account'])\n",
        "    bq = bigquery.Client(project=project, credentials=service_account)\n",
        "    config = bigquery.QueryJobConfig(priority=\"BATCH\", default_dataset=dataset)\n",
        "\n",
        "    sql = f\"\"\"\n",
        "    SELECT * EXCEPT(mdmCounterForEntity__DATETIME__,mdmCounterForEntity,mdmId,mdmCreated,mdmLastUpdated,mdmTenantId,mdmEntityType,mdmDeleted,mdmConnectorId,_ingestionDatetime),\n",
        "    FROM `{dataset}`.{staging}\n",
        "    LIMIT 1\n",
        "    \"\"\"\n",
        "\n",
        "    try:\n",
        "        result = (\n",
        "            bq.query(sql, config)\n",
        "            .result()\n",
        "            .to_dataframe(\n",
        "                create_bqstorage_client=True,\n",
        "            )\n",
        "        )\n",
        "        result.to_json(f'./{staging}.json', orient = 'records')\n",
        "        print(f'result of table `{dataset}`.{staging} extracted to ./{staging}.json')\n",
        "        return(result)\n",
        "\n",
        "    except exceptions.ClientError:\n",
        "        print({\"error\" : str(sys.exc_info()[1])})\n",
        "        return({\"error\" : str(sys.exc_info()[1])})"
      ]
    },
    {
      "cell_type": "markdown",
      "metadata": {
        "id": "NJXcZW9_oPP2"
      },
      "source": [
        "#### CONFIGURATION FILE\n",
        "`Now you will need to upload the configuration file with the format given above.`"
      ]
    },
    {
      "cell_type": "code",
      "execution_count": 31,
      "metadata": {
        "colab": {
          "base_uri": "https://localhost:8080/",
          "height": 281
        },
        "id": "NOngnE5qb2kb",
        "outputId": "f727f0e5-5593-49bb-e284-d33dcbdb86e4"
      },
      "outputs": [
        {
          "output_type": "display_data",
          "data": {
            "text/plain": [
              "<IPython.core.display.HTML object>"
            ],
            "text/html": [
              "\n",
              "     <input type=\"file\" id=\"files-cfe6c72f-a4ce-40cb-9b38-10b2d8b76f0a\" name=\"files[]\" multiple disabled\n",
              "        style=\"border:none\" />\n",
              "     <output id=\"result-cfe6c72f-a4ce-40cb-9b38-10b2d8b76f0a\">\n",
              "      Upload widget is only available when the cell has been executed in the\n",
              "      current browser session. Please rerun this cell to enable.\n",
              "      </output>\n",
              "      <script>// Copyright 2017 Google LLC\n",
              "//\n",
              "// Licensed under the Apache License, Version 2.0 (the \"License\");\n",
              "// you may not use this file except in compliance with the License.\n",
              "// You may obtain a copy of the License at\n",
              "//\n",
              "//      http://www.apache.org/licenses/LICENSE-2.0\n",
              "//\n",
              "// Unless required by applicable law or agreed to in writing, software\n",
              "// distributed under the License is distributed on an \"AS IS\" BASIS,\n",
              "// WITHOUT WARRANTIES OR CONDITIONS OF ANY KIND, either express or implied.\n",
              "// See the License for the specific language governing permissions and\n",
              "// limitations under the License.\n",
              "\n",
              "/**\n",
              " * @fileoverview Helpers for google.colab Python module.\n",
              " */\n",
              "(function(scope) {\n",
              "function span(text, styleAttributes = {}) {\n",
              "  const element = document.createElement('span');\n",
              "  element.textContent = text;\n",
              "  for (const key of Object.keys(styleAttributes)) {\n",
              "    element.style[key] = styleAttributes[key];\n",
              "  }\n",
              "  return element;\n",
              "}\n",
              "\n",
              "// Max number of bytes which will be uploaded at a time.\n",
              "const MAX_PAYLOAD_SIZE = 100 * 1024;\n",
              "\n",
              "function _uploadFiles(inputId, outputId) {\n",
              "  const steps = uploadFilesStep(inputId, outputId);\n",
              "  const outputElement = document.getElementById(outputId);\n",
              "  // Cache steps on the outputElement to make it available for the next call\n",
              "  // to uploadFilesContinue from Python.\n",
              "  outputElement.steps = steps;\n",
              "\n",
              "  return _uploadFilesContinue(outputId);\n",
              "}\n",
              "\n",
              "// This is roughly an async generator (not supported in the browser yet),\n",
              "// where there are multiple asynchronous steps and the Python side is going\n",
              "// to poll for completion of each step.\n",
              "// This uses a Promise to block the python side on completion of each step,\n",
              "// then passes the result of the previous step as the input to the next step.\n",
              "function _uploadFilesContinue(outputId) {\n",
              "  const outputElement = document.getElementById(outputId);\n",
              "  const steps = outputElement.steps;\n",
              "\n",
              "  const next = steps.next(outputElement.lastPromiseValue);\n",
              "  return Promise.resolve(next.value.promise).then((value) => {\n",
              "    // Cache the last promise value to make it available to the next\n",
              "    // step of the generator.\n",
              "    outputElement.lastPromiseValue = value;\n",
              "    return next.value.response;\n",
              "  });\n",
              "}\n",
              "\n",
              "/**\n",
              " * Generator function which is called between each async step of the upload\n",
              " * process.\n",
              " * @param {string} inputId Element ID of the input file picker element.\n",
              " * @param {string} outputId Element ID of the output display.\n",
              " * @return {!Iterable<!Object>} Iterable of next steps.\n",
              " */\n",
              "function* uploadFilesStep(inputId, outputId) {\n",
              "  const inputElement = document.getElementById(inputId);\n",
              "  inputElement.disabled = false;\n",
              "\n",
              "  const outputElement = document.getElementById(outputId);\n",
              "  outputElement.innerHTML = '';\n",
              "\n",
              "  const pickedPromise = new Promise((resolve) => {\n",
              "    inputElement.addEventListener('change', (e) => {\n",
              "      resolve(e.target.files);\n",
              "    });\n",
              "  });\n",
              "\n",
              "  const cancel = document.createElement('button');\n",
              "  inputElement.parentElement.appendChild(cancel);\n",
              "  cancel.textContent = 'Cancel upload';\n",
              "  const cancelPromise = new Promise((resolve) => {\n",
              "    cancel.onclick = () => {\n",
              "      resolve(null);\n",
              "    };\n",
              "  });\n",
              "\n",
              "  // Wait for the user to pick the files.\n",
              "  const files = yield {\n",
              "    promise: Promise.race([pickedPromise, cancelPromise]),\n",
              "    response: {\n",
              "      action: 'starting',\n",
              "    }\n",
              "  };\n",
              "\n",
              "  cancel.remove();\n",
              "\n",
              "  // Disable the input element since further picks are not allowed.\n",
              "  inputElement.disabled = true;\n",
              "\n",
              "  if (!files) {\n",
              "    return {\n",
              "      response: {\n",
              "        action: 'complete',\n",
              "      }\n",
              "    };\n",
              "  }\n",
              "\n",
              "  for (const file of files) {\n",
              "    const li = document.createElement('li');\n",
              "    li.append(span(file.name, {fontWeight: 'bold'}));\n",
              "    li.append(span(\n",
              "        `(${file.type || 'n/a'}) - ${file.size} bytes, ` +\n",
              "        `last modified: ${\n",
              "            file.lastModifiedDate ? file.lastModifiedDate.toLocaleDateString() :\n",
              "                                    'n/a'} - `));\n",
              "    const percent = span('0% done');\n",
              "    li.appendChild(percent);\n",
              "\n",
              "    outputElement.appendChild(li);\n",
              "\n",
              "    const fileDataPromise = new Promise((resolve) => {\n",
              "      const reader = new FileReader();\n",
              "      reader.onload = (e) => {\n",
              "        resolve(e.target.result);\n",
              "      };\n",
              "      reader.readAsArrayBuffer(file);\n",
              "    });\n",
              "    // Wait for the data to be ready.\n",
              "    let fileData = yield {\n",
              "      promise: fileDataPromise,\n",
              "      response: {\n",
              "        action: 'continue',\n",
              "      }\n",
              "    };\n",
              "\n",
              "    // Use a chunked sending to avoid message size limits. See b/62115660.\n",
              "    let position = 0;\n",
              "    do {\n",
              "      const length = Math.min(fileData.byteLength - position, MAX_PAYLOAD_SIZE);\n",
              "      const chunk = new Uint8Array(fileData, position, length);\n",
              "      position += length;\n",
              "\n",
              "      const base64 = btoa(String.fromCharCode.apply(null, chunk));\n",
              "      yield {\n",
              "        response: {\n",
              "          action: 'append',\n",
              "          file: file.name,\n",
              "          data: base64,\n",
              "        },\n",
              "      };\n",
              "\n",
              "      let percentDone = fileData.byteLength === 0 ?\n",
              "          100 :\n",
              "          Math.round((position / fileData.byteLength) * 100);\n",
              "      percent.textContent = `${percentDone}% done`;\n",
              "\n",
              "    } while (position < fileData.byteLength);\n",
              "  }\n",
              "\n",
              "  // All done.\n",
              "  yield {\n",
              "    response: {\n",
              "      action: 'complete',\n",
              "    }\n",
              "  };\n",
              "}\n",
              "\n",
              "scope.google = scope.google || {};\n",
              "scope.google.colab = scope.google.colab || {};\n",
              "scope.google.colab._files = {\n",
              "  _uploadFiles,\n",
              "  _uploadFilesContinue,\n",
              "};\n",
              "})(self);\n",
              "</script> "
            ]
          },
          "metadata": {}
        },
        {
          "output_type": "stream",
          "name": "stdout",
          "text": [
            "Saving carol.json to carol (1).json\n",
            "{\n",
            "  \"authentication_config\": {\n",
            "    \"username\": \"breno.zipoli@totvs.com.br\",\n",
            "    \"organization\": \"datascience\",\n",
            "    \"tenantName\": \"brenopapa3\"\n",
            "  },\n",
            "  \"script_config\": {\n",
            "    \"staging\": \"stg_myconnector_pcnfsaid\",\n",
            "    \"datamodel\": \"pcnfsaid\",\n",
            "    \"profile_title\": \"numtransvenda\"\n",
            "  }\n",
            "}\n"
          ]
        }
      ],
      "source": [
        "try:\n",
        "    from google.colab import files\n",
        "    config_file = files.upload()\n",
        "    config_json = json.loads(config_file[next(iter(config_file))].decode(\"utf-8\"))\n",
        "    config_json_print = json.loads(config_file[next(iter(config_file))].decode(\"utf-8\"))\n",
        "except:\n",
        "    with open('./carol.json') as config_file:\n",
        "        config_json = json.loads(config_file.read())\n",
        "        config_json_print = json.loads(config_file.read())\n",
        "    config_file.close()\n",
        "finally:\n",
        "    del config_json_print['authentication_config']['password']\n",
        "    print(json.dumps(config_json_print, indent=2))"
      ]
    },
    {
      "cell_type": "markdown",
      "metadata": {
        "id": "73_5mMXgoWXH"
      },
      "source": [
        "#### SCRIPT EXECUTION\n",
        "`The main execution of the script will happen here.`"
      ]
    },
    {
      "cell_type": "code",
      "execution_count": 32,
      "metadata": {
        "colab": {
          "base_uri": "https://localhost:8080/",
          "height": 1000
        },
        "id": "koQfTo_6jI-P",
        "outputId": "38485a53-766c-47e5-a6bf-cec74ab1baae"
      },
      "outputs": [
        {
          "output_type": "stream",
          "name": "stdout",
          "text": [
            "Connecting to Carol tenant brenopapa3... \n",
            "If you are using Google Colaboratory, remember to refresh the contents of working folder after script execution!\n",
            "{'nfatualwms': None, 'codfiscaloutrasdesp': None, 'telefone': None, 'numseriesat': None, 'vldesconto': 3.93, 'iesubsttribut': None, 'vltotbrutoprodajuste': None, 'cnpjfornec': None, 'totvolume': None, 'datahoraregistroepec': None, 'numprevenda': None, 'numtab': None, 'recibonfe': None, 'percofins': None, 'prazoponderado': None, 'numecf': None, 'idparceiro': None, 'vlcustofin': None, 'vlicmfreteauton': None, 'numnftransf': None, 'cartaodotz': None, 'sulframa': None, 'numtransvendatv13': None, 'numnotaorigem': None, 'vlicmsantecipado': None, 'vlpunitmed': None, 'nomearquivodotz': None, 'percicmfrete': None, 'codpraca': None, 'valorpedagio': None, 'transpautonomo': None, 'datahoraemissaosat': None, 'chavecte': None, 'codmedicoprescrit': None, 'tipoemissao': None, 'codsupervisor': None, 'comissaomot': None, 'nfbrinde': None, 'deduzirdesonerorgaopub': None, 'numnfcliconh': None, 'uffrete': None, 'descpais': None, 'codfornecfrete': None, 'reduzicmsdocte': None, 'vlcofins': None, 'cep': None, 'vldevolucao': None, 'chavenfe': '95872688194708293582398229178332214764158128', 'codclinf': None, 'kmfinalentrega': None, 'serieoriginal': None, 'respseguro': None, 'dthoraautorizacaosefaz': None, 'codmunicipfatgerador': None, 'vltotalfcpicms': None, 'enviadoemailcancelado': None, 'usasrvterceiros': None, 'natopernfe': None, 'vldescicms': None, 'wmsignorado': None, 'obsconhecfrete': None, 'vendaassistida': None, 'dthoracte': None, 'vlfrete': None, 'clientefontest': None, 'ufplacaveic': None, 'dtlancto': None, 'protocolonfse': None, 'vlraverbacao': None, 'vlrecebidoch': None, 'recibocte': None, 'razaosocialcteref': None, 'dtexportacaoservint': None, 'vlgris': None, 'numerorps': None, 'contadorcupomfiscal': None, 'protocolocte': None, 'numtransvendadependente': None, 'numdoccteref': None, 'dtwms': None, 'codpais': None, 'cgc': None, 'dthoracancelamentosefaz': None, 'percentualstfrete': None, 'numfechamentomovcx': None, 'vlcredicmspresumido': None, 'dtexportacaowms': None, 'deduzfuncepbasepiscofins': None, 'vljurosparcelamento': None, 'vlicms': None, 'codcont': None, 'ufcodigo': None, 'nsusociotorcedor': None, 'codmuninicte': None, 'cobranca': None, 'protocolo': None, 'situacaonfeorig': None, 'vlfreteretido': None, 'consumidorfinal': None, 'cnpjseguradora': None, 'aliquota': None, 'dtexpwmssaas': None, 'numcirurgia': None, 'numserieequip': None, 'nomeseguradora': None, 'entrega': None, 'coddevedorcte': None, 'totpesobruto': None, 'vendanfseried': None, 'numregiaofrete': None, 'vliss': None, 'justificativacontigencia': None, 'percstfreteretido': None, 'dtexclusaosofitview': None, 'numtranscteanul': None, 'vlpedagio': None, 'devsimbolica': None, 'pct_estoque': None, 'planosuppli': None, 'recibodpec': None, 'bairrocoleta': None, 'transportadora': None, 'totvldescflex': None, 'pontosdotz': None, 'dataconsolidacaoprefat': None, 'numnota': 43345, 'codfornectranspautonomo': None, 'uidregistro': None, 'totvlredcomisssup': None, 'numcaranterior': None, 'assinatura': None, 'tipofrete': None, 'complementocoleta': None, 'qrcode': None, 'dthorasaida': None, 'totvlbonific': None, 'codgerente': None, 'tipoemissaocte': None, 'protocolonfe': None, 'totvolumeagrupado': None, 'notadupliquesvc': None, 'numcar': None, 'codprodnfajuste': None, 'stbcr': None, 'aliqicmfreteauton': None, 'tiposubcontratacaocte': None, 'vendatriangular': None, 'inutilizada': None, 'totvldesccom': None, 'vldespacho': None, 'endereco': None, 'enviadasemresposta': None, 'numtransvendaorigem': None, 'funclanc': None, 'atacadista': None, 'orgaopubfederal': None, 'formulario': None, 'codfornec': None, 'bancopgtognre': None, 'ctecodtranspsubcontratado': None, 'numseqmontagem': None, 'nfipiemitida': None, 'descricaoprodnfajuste': None, 'deduziricmsbasepiscofins': None, 'vlseccat': None, 'vloutrasdesp': None, 'stribut': None, 'indicprestserv': None, 'idsofitview': None, 'obs': None, 'simplesnacional': None, 'comissaosup': None, 'pct_custo_cancelamento': None, 'vlisentas': None, 'qrcodesat': None, 'nffornec': None, 'codibge': None, 'numviasnf': None, 'numerodocsub': None, 'prazo3': None, 'prazo2': None, 'vlpautafrete': None, 'tipodocarrecgnre': None, 'nomearquivodotzestorno': None, 'prazo1': None, 'cnpjcoleta': None, 'codmotorista': None, 'tipofj': None, 'numempenho': None, 'codmunfimcte': None, 'numtransvendaconhec': None, 'horasaida': None, 'ie': None, 'percfreteretido': None, 'tipoinscprestserv': None, 'numseqentrega': None, 'codfunclibent': None, 'apresentoucupompromocao': None, 'qtdereprocnfe': None, 'codpromocaomed': None, 'placaveic': None, 'seriedoccteref': None, 'bairro': None, 'municipio': None, 'digitoverificadornfse': None, 'historico': None, 'codclifilial': None, 'codmunicipio': None, 'codsefazsat': None, 'vldesppedagio': None, 'dtfechaccrca': None, 'prazo7': None, 'prazo6': None, 'prazo5': None, 'numdocarrec': None, 'prazo4': None, 'percfrete': None, 'iefrete': None, 'minutosaida': None, 'prazo9': None, 'vlrecebidodin': None, 'irrretido': None, 'prazo8': None, 'codfornecredespacho': None, 'geracp': None, 'dtfat': None, 'numseq': None, 'condfinanc': None, 'protocolocancelamentocte': None, 'dtfecha': None, 'codrecebfretecteref': None, 'dtemissaocteref': None, 'obsnfefisco': None, 'dthorarecibodpec': None, 'codunidadeexecutora': None, 'totpesopalete': None, 'vldescprom': None, 'vloperacaofrete': None, 'idintegracaomyfrota': None, 'numcontratocarreteiro': None, 'ambientenfe': None, 'numerocoleta': None, 'numviaspu': None, 'motestornonfe': None, 'cnpjresponsavel': None, 'numlotenfe': None, 'rotinacadcte': None, 'dtvencarrec': None, 'vltotalnfcompoemcte': None, 'codprodpredominante': None, 'numendereco': None, 'dtsaida': 1660359600000, 'tipodocumentosub': None, 'dtsaidanf': None, 'subseriedoccteref': None, 'vlrecebidoboleto': None, 'codfilialnf': None, 'numtransvenda': 97470461, 'ctecodtomadorservico': None, 'codfunclanc': None, 'dtnsu': None, 'vltabela': None, 'usaintegracaowms': None, 'numeroprocesso': None, 'pct_custo': None, 'prazoadicional': None, 'perbaseredoutrasdesp': None, 'icmsretido': None, 'unidadenfajuste': None, 'numselonf': None, 'tipodoccteref': None, 'comissao4': None, 'comissao3': None, 'comissao2': None, 'pisretido': None, 'vlcustorep': None, 'numped': 50008673, 'inssretido': None, 'numcaixafiscal': None, 'icmsretidognre': None, 'numciot': None, 'vlpis': None, 'codcoordenador': None, 'finalidadenfe': None, 'minutoentrega': None, 'conferido': None, 'codpracadestfrete': None, 'sitdoc': None, 'qtpalete': None, 'situacaosat': None, 'numop': None, 'enviadanfe': None, 'vltranspautonomo': None, 'codsittribpiscofins': None, 'codcontrato': None, 'autentpgtognre': None, 'numos': None, 'totdifaliquotas': None, 'numregexp': None, 'numchaveexp': None, 'gerarbcrnfe': None, 'dtemissaodeclaracao': None, 'codsupervisor3': None, 'numeroapolice': None, 'codsupervisor2': None, 'vlboleto': None, 'vldescsociotorcedor': None, 'vldescabatimento': None, 'contaordem': None, 'dtcancel': None, 'vltotalfcpst': None, 'cgcfilial': None, 'dthorachegada': None, 'md5paf': None, 'exportadoservint': None, 'emailfrete': None, 'livexportacao': None, 'rotinacad': None, 'geracaorazaoauxiliar': None, 'recarga': None, 'pagchequemoradia': None, 'orgaopub': None, 'codplpaggenerico': None, 'lotedpec': None, 'codveiculo': None, 'codcobsefaz': None, 'obsnfajuste': None, 'vltroco': None, 'numregiao': None, 'numeroaverbacao': None, 'serieecf': None, 'numlanccp': None, 'totvlredcomiss': None, 'versaolayoutnfe': None, 'cnpjfornecpedagio': None, 'numorcafilial': None, 'vlbase': None, 'codepto': None, 'coddiretor': None, 'codremetentefrete': None, 'tiporemessa': None, 'vltributos': None, 'codclirecebedor': None, 'chavenfetomadorsub': None, 'codemitente': None, 'geranfvenda': None, 'numdrawback': None, 'tentativaenvionfe': None, 'obsnfcarreg': None, 'coddevol': None, 'dtimportacaowms': None, 'dtemissaonffornec': None, 'somarepasseoutrasdespnf': None, 'vlrecebidocartao': None, 'codstatussat': None, 'numremessa': None, 'dtcancelwms': None, 'codbnf': None, 'codigonumericochave': None, 'obsexp': None, 'rotinalanc': None, 'tipotransfentredeposito': None, 'taxaentrega': None, 'codfiscal': None, 'tipopresencaadquirinte': None, 'subserie': None, 'normaregespecial': None, 'cteglobalizado': None, 'ctesubcontratadochavecteref': None, 'tipoaliqoutrasdesp': None, 'perdescfin': None, 'transfdep': None, 'dtemissaodocsub': None, 'codfilial': '5', 'numnotamanif': None, 'cnpjcpfemitentesub': None, 'codedital': None, 'materialdeconstrucao': None, 'totpesoagrupado': None, 'linknfse': None, 'equiplanc': None, 'tipoimpressao': None, 'numtransvendadestino': None, 'gerarcptranspaunotomo': None, 'vlstfreteretido': None, 'tipocontacorrente': None, 'codplpag': None, 'bcst': None, 'cnpjcisp': None, 'agenciapgtognre': None, 'vlsubtotal': None, 'vltotalnf': None, 'vlcustoreal': None, 'codusur4': None, 'codusur3': None, 'caixa': None, 'emaildest': None, 'vlbonificacerto': None, 'numtransvendaecf': None, 'perccomprofissional': None, 'chavecteref': None, 'dtlibent': None, 'codtranspautonomo': None, 'numvias': None, 'prazomedio': None, 'protocolonfeepec': None, 'codfiscalnf': 5102, 'situacaonfse': None, 'codigoindicativosuspensao': None, 'vlir': None, 'numcargaedi': None, 'codcondicaovenda': None, 'utilizaipicalcicms': None, 'chavesat': None, 'broker': None, 'codusur2': None, 'nfdeventfutura': None, 'origemfrete': None, 'vlbasefreteauton': None, 'comissao': None, 'situacaocte': None, 'codplpagetico': None, 'indicadoracrescimo': None, 'codautenticacao': None, 'codgerenteregional': None, 'descintermediador': None, 'numtransentorigtv10': None, 'numpedcli': None, 'vlinss': None, 'qtdereproccte': None, 'aliqicmoutrasdesp': None, 'tipovenda': None, 'codcontcli': None, 'desfezkitcanc': None, 'codfornecbonific': None, 'vlbaseipi': None, 'wmscodfuncignora': None, 'chavectetomadorsub': None, 'fil_montarkitautomaticamente': None, 'uf': None, 'dtcanhoto': None, 'vlbonific': None, 'numnotavinculada': None, 'minutolanc': None, 'vendaexportacao': None, 'fretedespacho': None, 'vltotger': 27.6, 'numsessaosat': None, 'marcarvolume': None, 'tentativaenviocte': None, 'contribuinte': None, 'razaosocialcoleta': None, 'dtdenegada': None, 'tipomovgarantia': None, 'vloutras': None, 'bcstgnre': None, 'ambientecte': None, 'cliente': None, 'localdesembaraco': None, 'codretencaocprb': None, 'vldespdentronf': None, 'numvalepedagio': None, 'dtpagarrec': None, 'protocolonfeauto': None, 'dtahoraentradacontigencia': None, 'horaemissao': None, 'numlotecte': None, 'codfiscalfreteauton': None, 'dtentrega': None, 'numorca': None, 'uffilial': None, 'modelodocsub': None, 'vlicmsstfrete': None, 'usamultuniditem': None, 'vlservicofreteauton': None, 'vlcsll': None, 'codusurvinc1266': None, 'dataempenho': None, 'infglobalizado': None, 'ufplacavei': None, 'indicadordesconto': None, 'chavecteanulacao': None, 'pedidoavaria': None, 'vlbaseretencao': None, 'ufcteref': None, 'codexportador': None, 'protocolocancelamento': None, 'codprofissional': None, 'totpesoliq': None, 'aproveitastdevfornec': None, 'codveiculo2': None, 'codveiculo1': None, 'cpnjresponsavelpedagio': None, 'cofinsretido': None, 'versaorotina': None, 'md5listaarq': None, 'cteregimeespecial': None, 'especievolume': None, 'numformulario': None, 'codusur': None, 'nfbrindezerada': None, 'vlipi': None, 'agregastvlmerc': None, 'emissnumautomatico': None, 'vlfreteoutrasdesp': None, 'vltotalsemdescicms': None, 'totpesoliqagrupado': None, 'condvenda': None, 'numvolume': None, 'tipoprocesso': None, 'dtpagcomissaoprof': None, 'chavectesubstituicao': None, 'idlocaldestmerc': None, 'vldocarrecadacao': None, 'horaentrega': None, 'vldescfin': None, 'perdescfintot': None, 'enviada': None, 'pct_estoque_cancelamento': None, 'protocolonfecan': None, 'numidf': None, 'horalanc': None, 'orgaopubmunicipal': None, 'ambiente': None, 'numtransentorigconsig': None, 'codatv1': None, 'vlverbacmvcli': None, 'vltotal': 27.6, 'codfuncliberacaoentrega': None, 'nsu': None, 'cgcfrete': None, 'ufbeneficiaria': None, 'consumiunumnfe': None, 'tipoempresa': None, 'situacaonfeepec': None, 'vlbasestfrete': None, 'selo': None, 'codfunccancel': None, 'codgerentenacional': None, 'dtpagcomissao': None, 'custobonificacao': None, 'dta_horaenviosefaz': None, 'totvldescfin': None, 'dtmovimentocx': None, 'vlbasepiscofins': None, 'numcupom': None, 'dtpgtocampanha': None, 'numnotanfse': None, 'numtransentcrossdock': None, 'tomadorcte': None, 'tiposervicocte': None, 'cnpjcpfcteref': None, 'ufdesembaraco': None, 'dtpagcomissaoop': None, 'vltas': None, 'serierps': None, 'numtransentnfestornada': None, 'reservaritenstv7': None, 'imprimiudactejuntodanfe': None, 'dtpagdotz': None, 'numcontrato': None, 'numtransentdependente': None, 'numcoleta': None, 'subseriedocsub': None, 'codcli': 3261, 'cnpjintermediador': None, 'ncmnfajuste': None, 'agregarstprodsintegra': None, 'codconsignatariofrete': None, 'qrcodenfce': None, 'numnotapref': None, 'vlfretenf': None, 'numlista': None, 'numpedvanxml': None, 'codemitentepedido': None, 'numtransentdest': None, 'obsnfe': None, 'iecteref': None, 'importadoservprinc': None, 'comissvendaverba': None, 'dtdevol': None, 'codfiscalfrete': None, 'ctecodtranspsubcontratante': None, 'motoristaveiculo': None, 'dtliberacaoentrega': None, 'despesasrateada': None, 'identificarclientenfce': None, 'codfornecfretecteref': None, 'ctecodveiculosubcontratante': None, 'emailfreteredespacho': None, 'ieent': None, 'vlipioutras': None, 'totpeso': None, 'numviasgnre': None, 'perpis': None, 'codcob': 'DEP', 'consumiunumcte': None, 'vlltr': None, 'numtransentorigem': None, 'vlcustocont': None, 'seriedocsub': None, 'obspiscofins': None, 'tipodevol': None, 'numtransctesubs': None, 'dthoranfe': None, 'especie': None, 'docemissao': None, 'situacaonfe': None, 'logradourocoleta': None, 'vlseguro': None, 'numcomprovante': None, 'nota': None, 'mensagempiscofins': None, 'depositofechado': None, 'idtipopresenca': None, 'prazo10': None, 'numitens': None, 'prazo11': None, 'prazo12': None, 'dtimportacaoservprinc': None, 'freteredespacho': None, 'coddestinatariofrete': None, 'fornecentrega': None, 'valorst': None, 'csllretido': None, 'codcidadecoleta': None, 'utilizaexpdiversos': None, 'serie': '1', 'valordocsub': None, 'coddoc': None, 'armcodcomp': None, 'iefilial': None}\n",
            "Creating 1/632\n",
            "Creating 2/632\n",
            "Creating 3/632\n",
            "Creating 4/632\n",
            "Creating 5/632\n",
            "Creating 6/632\n",
            "Creating 7/632\n",
            "Creating 8/632\n",
            "Creating 9/632\n",
            "Creating 10/632\n",
            "Creating 11/632\n",
            "Creating 12/632\n",
            "Creating 13/632\n",
            "Creating 14/632\n",
            "Creating 15/632\n",
            "Creating 16/632\n",
            "Creating 17/632\n",
            "Creating 18/632\n",
            "Creating 19/632\n",
            "Creating 20/632\n",
            "Creating 21/632\n",
            "Creating 22/632\n",
            "Creating 23/632\n",
            "Creating 24/632\n",
            "Creating 25/632\n",
            "Creating 26/632\n",
            "Creating 27/632\n",
            "Creating 28/632\n",
            "Creating 29/632\n",
            "Creating 30/632\n",
            "Creating 31/632\n",
            "Creating 32/632\n",
            "Creating 33/632\n",
            "Creating 34/632\n",
            "Creating 35/632\n",
            "Creating 36/632\n",
            "Creating 37/632\n",
            "Creating 38/632\n",
            "Creating 39/632\n",
            "Creating 40/632\n",
            "Creating 41/632\n",
            "Creating 42/632\n",
            "Creating 43/632\n",
            "Creating 44/632\n",
            "Creating 45/632\n",
            "Creating 46/632\n",
            "Creating 47/632\n",
            "Creating 48/632\n",
            "Creating 49/632\n",
            "Creating 50/632\n",
            "Creating 51/632\n",
            "Creating 52/632\n",
            "Creating 53/632\n",
            "Creating 54/632\n",
            "Creating 55/632\n"
          ]
        },
        {
          "output_type": "error",
          "ename": "KeyboardInterrupt",
          "evalue": "ignored",
          "traceback": [
            "\u001b[0;31m---------------------------------------------------------------------------\u001b[0m",
            "\u001b[0;31mKeyboardInterrupt\u001b[0m                         Traceback (most recent call last)",
            "\u001b[0;32m<ipython-input-32-78f3d009ed35>\u001b[0m in \u001b[0;36m<cell line: 17>\u001b[0;34m()\u001b[0m\n\u001b[1;32m     15\u001b[0m \u001b[0mprint\u001b[0m\u001b[0;34m(\u001b[0m\u001b[0mdata\u001b[0m\u001b[0;34m)\u001b[0m\u001b[0;34m\u001b[0m\u001b[0;34m\u001b[0m\u001b[0m\n\u001b[1;32m     16\u001b[0m \u001b[0;34m\u001b[0m\u001b[0m\n\u001b[0;32m---> 17\u001b[0;31m \u001b[0mla\u001b[0m\u001b[0;34m.\u001b[0m\u001b[0mstart\u001b[0m\u001b[0;34m(\u001b[0m\u001b[0mdata\u001b[0m\u001b[0;34m,\u001b[0m \u001b[0mdm_name\u001b[0m\u001b[0;34m=\u001b[0m\u001b[0mconfig_json\u001b[0m\u001b[0;34m[\u001b[0m\u001b[0;34m\"script_config\"\u001b[0m\u001b[0;34m]\u001b[0m\u001b[0;34m[\u001b[0m\u001b[0;34m\"datamodel\"\u001b[0m\u001b[0;34m]\u001b[0m\u001b[0;34m,\u001b[0m \u001b[0mprofile_title\u001b[0m\u001b[0;34m=\u001b[0m\u001b[0mconfig_json\u001b[0m\u001b[0;34m[\u001b[0m\u001b[0;34m\"script_config\"\u001b[0m\u001b[0;34m]\u001b[0m\u001b[0;34m[\u001b[0m\u001b[0;34m\"profile_title\"\u001b[0m\u001b[0;34m]\u001b[0m\u001b[0;34m,\u001b[0m \u001b[0mpublish\u001b[0m\u001b[0;34m=\u001b[0m\u001b[0;32mTrue\u001b[0m\u001b[0;34m,\u001b[0m \u001b[0moverwrite\u001b[0m\u001b[0;34m=\u001b[0m\u001b[0;32mTrue\u001b[0m\u001b[0;34m)\u001b[0m\u001b[0;34m\u001b[0m\u001b[0;34m\u001b[0m\u001b[0m\n\u001b[0m\u001b[1;32m     18\u001b[0m \u001b[0;34m\u001b[0m\u001b[0m\n",
            "\u001b[0;32m/usr/local/lib/python3.10/dist-packages/pycarol/tools/data_model_generator.py\u001b[0m in \u001b[0;36mstart\u001b[0;34m(self, json_sample, dm_name, publish, profile_title, overwrite, vertical_ids, vertical_names, entity_template_type_ids, entity_template_type_names, dm_label, group_name, transaction_dm, ignore_field_type)\u001b[0m\n\u001b[1;32m    111\u001b[0m         \u001b[0mdm_id\u001b[0m \u001b[0;34m=\u001b[0m \u001b[0mtDM\u001b[0m\u001b[0;34m.\u001b[0m\u001b[0mtemplate_dict\u001b[0m\u001b[0;34m[\u001b[0m\u001b[0mdm_name\u001b[0m\u001b[0;34m]\u001b[0m\u001b[0;34m[\u001b[0m\u001b[0;34m'mdmId'\u001b[0m\u001b[0;34m]\u001b[0m\u001b[0;34m\u001b[0m\u001b[0;34m\u001b[0m\u001b[0m\n\u001b[1;32m    112\u001b[0m \u001b[0;34m\u001b[0m\u001b[0m\n\u001b[0;32m--> 113\u001b[0;31m         tDM.from_json(json_sample, profile_title=profile_title, publish=publish, dm_id=dm_id,\n\u001b[0m\u001b[1;32m    114\u001b[0m                       ignore_field_type=ignore_field_type, )\n\u001b[1;32m    115\u001b[0m         \u001b[0mprint\u001b[0m\u001b[0;34m(\u001b[0m\u001b[0;34m'Done!'\u001b[0m\u001b[0;34m)\u001b[0m\u001b[0;34m\u001b[0m\u001b[0;34m\u001b[0m\u001b[0m\n",
            "\u001b[0;32m/usr/local/lib/python3.10/dist-packages/pycarol/data_models/data_models.py\u001b[0m in \u001b[0;36mfrom_json\u001b[0;34m(self, json_sample, profile_title, publish, dm_id, label_map, description_map, ignore_field_type)\u001b[0m\n\u001b[1;32m    924\u001b[0m                                        mdm_label=current_label, mdm_description=current_description)\n\u001b[1;32m    925\u001b[0m                     \u001b[0mself\u001b[0m\u001b[0;34m.\u001b[0m\u001b[0mall_possible_fields\u001b[0m \u001b[0;34m=\u001b[0m \u001b[0mself\u001b[0m\u001b[0;34m.\u001b[0m\u001b[0mfields\u001b[0m\u001b[0;34m.\u001b[0m\u001b[0mfields_dict\u001b[0m\u001b[0;34m\u001b[0m\u001b[0;34m\u001b[0m\u001b[0m\n\u001b[0;32m--> 926\u001b[0;31m                     \u001b[0mself\u001b[0m\u001b[0;34m.\u001b[0m\u001b[0madd_field\u001b[0m\u001b[0;34m(\u001b[0m\u001b[0mprop\u001b[0m\u001b[0;34m,\u001b[0m \u001b[0mparent_field_id\u001b[0m\u001b[0;34m=\u001b[0m\u001b[0;34m\"\"\u001b[0m\u001b[0;34m)\u001b[0m\u001b[0;34m\u001b[0m\u001b[0;34m\u001b[0m\u001b[0m\n\u001b[0m\u001b[1;32m    927\u001b[0m                 \u001b[0;32melse\u001b[0m\u001b[0;34m:\u001b[0m\u001b[0;34m\u001b[0m\u001b[0;34m\u001b[0m\u001b[0m\n\u001b[1;32m    928\u001b[0m                     \u001b[0mprint\u001b[0m\u001b[0;34m(\u001b[0m\u001b[0;34m'Nested fields are not supported'\u001b[0m\u001b[0;34m)\u001b[0m\u001b[0;34m\u001b[0m\u001b[0;34m\u001b[0m\u001b[0m\n",
            "\u001b[0;32m/usr/local/lib/python3.10/dist-packages/pycarol/data_models/data_models.py\u001b[0m in \u001b[0;36madd_field\u001b[0;34m(self, field_name, dm_id, parent_field_id)\u001b[0m\n\u001b[1;32m    848\u001b[0m \u001b[0;34m\u001b[0m\u001b[0m\n\u001b[1;32m    849\u001b[0m         \u001b[0murl\u001b[0m \u001b[0;34m=\u001b[0m \u001b[0;34mf\"v1/entities/templates/{self.dm_id}/onboardField/{field_to_send['mdmId']}\"\u001b[0m\u001b[0;34m\u001b[0m\u001b[0;34m\u001b[0m\u001b[0m\n\u001b[0;32m--> 850\u001b[0;31m         \u001b[0mresp\u001b[0m \u001b[0;34m=\u001b[0m \u001b[0mself\u001b[0m\u001b[0;34m.\u001b[0m\u001b[0mcarol\u001b[0m\u001b[0;34m.\u001b[0m\u001b[0mcall_api\u001b[0m\u001b[0;34m(\u001b[0m\u001b[0mpath\u001b[0m\u001b[0;34m=\u001b[0m\u001b[0murl\u001b[0m\u001b[0;34m,\u001b[0m \u001b[0mmethod\u001b[0m\u001b[0;34m=\u001b[0m\u001b[0;34m'POST'\u001b[0m\u001b[0;34m,\u001b[0m \u001b[0mparams\u001b[0m\u001b[0;34m=\u001b[0m\u001b[0mquerystring\u001b[0m\u001b[0;34m)\u001b[0m\u001b[0;34m\u001b[0m\u001b[0;34m\u001b[0m\u001b[0m\n\u001b[0m\u001b[1;32m    851\u001b[0m \u001b[0;34m\u001b[0m\u001b[0m\n\u001b[1;32m    852\u001b[0m     \u001b[0;32mdef\u001b[0m \u001b[0m_labels_and_desc\u001b[0m\u001b[0;34m(\u001b[0m\u001b[0mself\u001b[0m\u001b[0;34m,\u001b[0m \u001b[0mprop\u001b[0m\u001b[0;34m)\u001b[0m\u001b[0;34m:\u001b[0m\u001b[0;34m\u001b[0m\u001b[0;34m\u001b[0m\u001b[0m\n",
            "\u001b[0;32m/usr/local/lib/python3.10/dist-packages/pycarol/carol.py\u001b[0m in \u001b[0;36mcall_api\u001b[0;34m(self, path, method, data, auth, params, content_type, retries, session, backoff_factor, status_forcelist, downloadable, method_whitelist, errors, extra_headers, files, prefix_path, **kwds)\u001b[0m\n\u001b[1;32m    303\u001b[0m             )\n\u001b[1;32m    304\u001b[0m \u001b[0;34m\u001b[0m\u001b[0m\n\u001b[0;32m--> 305\u001b[0;31m             response = self.session.request(\n\u001b[0m\u001b[1;32m    306\u001b[0m                 \u001b[0mmethod\u001b[0m\u001b[0;34m=\u001b[0m\u001b[0mmethod\u001b[0m\u001b[0;34m,\u001b[0m\u001b[0;34m\u001b[0m\u001b[0;34m\u001b[0m\u001b[0m\n\u001b[1;32m    307\u001b[0m                 \u001b[0murl\u001b[0m\u001b[0;34m=\u001b[0m\u001b[0murl\u001b[0m\u001b[0;34m,\u001b[0m\u001b[0;34m\u001b[0m\u001b[0;34m\u001b[0m\u001b[0m\n",
            "\u001b[0;32m/usr/local/lib/python3.10/dist-packages/requests/sessions.py\u001b[0m in \u001b[0;36mrequest\u001b[0;34m(self, method, url, params, data, headers, cookies, files, auth, timeout, allow_redirects, proxies, hooks, stream, verify, cert, json)\u001b[0m\n\u001b[1;32m    527\u001b[0m         }\n\u001b[1;32m    528\u001b[0m         \u001b[0msend_kwargs\u001b[0m\u001b[0;34m.\u001b[0m\u001b[0mupdate\u001b[0m\u001b[0;34m(\u001b[0m\u001b[0msettings\u001b[0m\u001b[0;34m)\u001b[0m\u001b[0;34m\u001b[0m\u001b[0;34m\u001b[0m\u001b[0m\n\u001b[0;32m--> 529\u001b[0;31m         \u001b[0mresp\u001b[0m \u001b[0;34m=\u001b[0m \u001b[0mself\u001b[0m\u001b[0;34m.\u001b[0m\u001b[0msend\u001b[0m\u001b[0;34m(\u001b[0m\u001b[0mprep\u001b[0m\u001b[0;34m,\u001b[0m \u001b[0;34m**\u001b[0m\u001b[0msend_kwargs\u001b[0m\u001b[0;34m)\u001b[0m\u001b[0;34m\u001b[0m\u001b[0;34m\u001b[0m\u001b[0m\n\u001b[0m\u001b[1;32m    530\u001b[0m \u001b[0;34m\u001b[0m\u001b[0m\n\u001b[1;32m    531\u001b[0m         \u001b[0;32mreturn\u001b[0m \u001b[0mresp\u001b[0m\u001b[0;34m\u001b[0m\u001b[0;34m\u001b[0m\u001b[0m\n",
            "\u001b[0;32m/usr/local/lib/python3.10/dist-packages/requests/sessions.py\u001b[0m in \u001b[0;36msend\u001b[0;34m(self, request, **kwargs)\u001b[0m\n\u001b[1;32m    643\u001b[0m \u001b[0;34m\u001b[0m\u001b[0m\n\u001b[1;32m    644\u001b[0m         \u001b[0;31m# Send the request\u001b[0m\u001b[0;34m\u001b[0m\u001b[0;34m\u001b[0m\u001b[0m\n\u001b[0;32m--> 645\u001b[0;31m         \u001b[0mr\u001b[0m \u001b[0;34m=\u001b[0m \u001b[0madapter\u001b[0m\u001b[0;34m.\u001b[0m\u001b[0msend\u001b[0m\u001b[0;34m(\u001b[0m\u001b[0mrequest\u001b[0m\u001b[0;34m,\u001b[0m \u001b[0;34m**\u001b[0m\u001b[0mkwargs\u001b[0m\u001b[0;34m)\u001b[0m\u001b[0;34m\u001b[0m\u001b[0;34m\u001b[0m\u001b[0m\n\u001b[0m\u001b[1;32m    646\u001b[0m \u001b[0;34m\u001b[0m\u001b[0m\n\u001b[1;32m    647\u001b[0m         \u001b[0;31m# Total elapsed time of the request (approximately)\u001b[0m\u001b[0;34m\u001b[0m\u001b[0;34m\u001b[0m\u001b[0m\n",
            "\u001b[0;32m/usr/local/lib/python3.10/dist-packages/requests/adapters.py\u001b[0m in \u001b[0;36msend\u001b[0;34m(self, request, stream, timeout, verify, cert, proxies)\u001b[0m\n\u001b[1;32m    438\u001b[0m         \u001b[0;32mtry\u001b[0m\u001b[0;34m:\u001b[0m\u001b[0;34m\u001b[0m\u001b[0;34m\u001b[0m\u001b[0m\n\u001b[1;32m    439\u001b[0m             \u001b[0;32mif\u001b[0m \u001b[0;32mnot\u001b[0m \u001b[0mchunked\u001b[0m\u001b[0;34m:\u001b[0m\u001b[0;34m\u001b[0m\u001b[0;34m\u001b[0m\u001b[0m\n\u001b[0;32m--> 440\u001b[0;31m                 resp = conn.urlopen(\n\u001b[0m\u001b[1;32m    441\u001b[0m                     \u001b[0mmethod\u001b[0m\u001b[0;34m=\u001b[0m\u001b[0mrequest\u001b[0m\u001b[0;34m.\u001b[0m\u001b[0mmethod\u001b[0m\u001b[0;34m,\u001b[0m\u001b[0;34m\u001b[0m\u001b[0;34m\u001b[0m\u001b[0m\n\u001b[1;32m    442\u001b[0m                     \u001b[0murl\u001b[0m\u001b[0;34m=\u001b[0m\u001b[0murl\u001b[0m\u001b[0;34m,\u001b[0m\u001b[0;34m\u001b[0m\u001b[0;34m\u001b[0m\u001b[0m\n",
            "\u001b[0;32m/usr/local/lib/python3.10/dist-packages/urllib3/connectionpool.py\u001b[0m in \u001b[0;36murlopen\u001b[0;34m(self, method, url, body, headers, retries, redirect, assert_same_host, timeout, pool_timeout, release_conn, chunked, body_pos, **response_kw)\u001b[0m\n\u001b[1;32m    701\u001b[0m \u001b[0;34m\u001b[0m\u001b[0m\n\u001b[1;32m    702\u001b[0m             \u001b[0;31m# Make the request on the httplib connection object.\u001b[0m\u001b[0;34m\u001b[0m\u001b[0;34m\u001b[0m\u001b[0m\n\u001b[0;32m--> 703\u001b[0;31m             httplib_response = self._make_request(\n\u001b[0m\u001b[1;32m    704\u001b[0m                 \u001b[0mconn\u001b[0m\u001b[0;34m,\u001b[0m\u001b[0;34m\u001b[0m\u001b[0;34m\u001b[0m\u001b[0m\n\u001b[1;32m    705\u001b[0m                 \u001b[0mmethod\u001b[0m\u001b[0;34m,\u001b[0m\u001b[0;34m\u001b[0m\u001b[0;34m\u001b[0m\u001b[0m\n",
            "\u001b[0;32m/usr/local/lib/python3.10/dist-packages/urllib3/connectionpool.py\u001b[0m in \u001b[0;36m_make_request\u001b[0;34m(self, conn, method, url, timeout, chunked, **httplib_request_kw)\u001b[0m\n\u001b[1;32m    447\u001b[0m                     \u001b[0;31m# Python 3 (including for exceptions like SystemExit).\u001b[0m\u001b[0;34m\u001b[0m\u001b[0;34m\u001b[0m\u001b[0m\n\u001b[1;32m    448\u001b[0m                     \u001b[0;31m# Otherwise it looks like a bug in the code.\u001b[0m\u001b[0;34m\u001b[0m\u001b[0;34m\u001b[0m\u001b[0m\n\u001b[0;32m--> 449\u001b[0;31m                     \u001b[0msix\u001b[0m\u001b[0;34m.\u001b[0m\u001b[0mraise_from\u001b[0m\u001b[0;34m(\u001b[0m\u001b[0me\u001b[0m\u001b[0;34m,\u001b[0m \u001b[0;32mNone\u001b[0m\u001b[0;34m)\u001b[0m\u001b[0;34m\u001b[0m\u001b[0;34m\u001b[0m\u001b[0m\n\u001b[0m\u001b[1;32m    450\u001b[0m         \u001b[0;32mexcept\u001b[0m \u001b[0;34m(\u001b[0m\u001b[0mSocketTimeout\u001b[0m\u001b[0;34m,\u001b[0m \u001b[0mBaseSSLError\u001b[0m\u001b[0;34m,\u001b[0m \u001b[0mSocketError\u001b[0m\u001b[0;34m)\u001b[0m \u001b[0;32mas\u001b[0m \u001b[0me\u001b[0m\u001b[0;34m:\u001b[0m\u001b[0;34m\u001b[0m\u001b[0;34m\u001b[0m\u001b[0m\n\u001b[1;32m    451\u001b[0m             \u001b[0mself\u001b[0m\u001b[0;34m.\u001b[0m\u001b[0m_raise_timeout\u001b[0m\u001b[0;34m(\u001b[0m\u001b[0merr\u001b[0m\u001b[0;34m=\u001b[0m\u001b[0me\u001b[0m\u001b[0;34m,\u001b[0m \u001b[0murl\u001b[0m\u001b[0;34m=\u001b[0m\u001b[0murl\u001b[0m\u001b[0;34m,\u001b[0m \u001b[0mtimeout_value\u001b[0m\u001b[0;34m=\u001b[0m\u001b[0mread_timeout\u001b[0m\u001b[0;34m)\u001b[0m\u001b[0;34m\u001b[0m\u001b[0;34m\u001b[0m\u001b[0m\n",
            "\u001b[0;32m/usr/local/lib/python3.10/dist-packages/urllib3/packages/six.py\u001b[0m in \u001b[0;36mraise_from\u001b[0;34m(value, from_value)\u001b[0m\n",
            "\u001b[0;32m/usr/local/lib/python3.10/dist-packages/urllib3/connectionpool.py\u001b[0m in \u001b[0;36m_make_request\u001b[0;34m(self, conn, method, url, timeout, chunked, **httplib_request_kw)\u001b[0m\n\u001b[1;32m    442\u001b[0m                 \u001b[0;31m# Python 3\u001b[0m\u001b[0;34m\u001b[0m\u001b[0;34m\u001b[0m\u001b[0m\n\u001b[1;32m    443\u001b[0m                 \u001b[0;32mtry\u001b[0m\u001b[0;34m:\u001b[0m\u001b[0;34m\u001b[0m\u001b[0;34m\u001b[0m\u001b[0m\n\u001b[0;32m--> 444\u001b[0;31m                     \u001b[0mhttplib_response\u001b[0m \u001b[0;34m=\u001b[0m \u001b[0mconn\u001b[0m\u001b[0;34m.\u001b[0m\u001b[0mgetresponse\u001b[0m\u001b[0;34m(\u001b[0m\u001b[0;34m)\u001b[0m\u001b[0;34m\u001b[0m\u001b[0;34m\u001b[0m\u001b[0m\n\u001b[0m\u001b[1;32m    445\u001b[0m                 \u001b[0;32mexcept\u001b[0m \u001b[0mBaseException\u001b[0m \u001b[0;32mas\u001b[0m \u001b[0me\u001b[0m\u001b[0;34m:\u001b[0m\u001b[0;34m\u001b[0m\u001b[0;34m\u001b[0m\u001b[0m\n\u001b[1;32m    446\u001b[0m                     \u001b[0;31m# Remove the TypeError from the exception chain in\u001b[0m\u001b[0;34m\u001b[0m\u001b[0;34m\u001b[0m\u001b[0m\n",
            "\u001b[0;32m/usr/lib/python3.10/http/client.py\u001b[0m in \u001b[0;36mgetresponse\u001b[0;34m(self)\u001b[0m\n\u001b[1;32m   1373\u001b[0m         \u001b[0;32mtry\u001b[0m\u001b[0;34m:\u001b[0m\u001b[0;34m\u001b[0m\u001b[0;34m\u001b[0m\u001b[0m\n\u001b[1;32m   1374\u001b[0m             \u001b[0;32mtry\u001b[0m\u001b[0;34m:\u001b[0m\u001b[0;34m\u001b[0m\u001b[0;34m\u001b[0m\u001b[0m\n\u001b[0;32m-> 1375\u001b[0;31m                 \u001b[0mresponse\u001b[0m\u001b[0;34m.\u001b[0m\u001b[0mbegin\u001b[0m\u001b[0;34m(\u001b[0m\u001b[0;34m)\u001b[0m\u001b[0;34m\u001b[0m\u001b[0;34m\u001b[0m\u001b[0m\n\u001b[0m\u001b[1;32m   1376\u001b[0m             \u001b[0;32mexcept\u001b[0m \u001b[0mConnectionError\u001b[0m\u001b[0;34m:\u001b[0m\u001b[0;34m\u001b[0m\u001b[0;34m\u001b[0m\u001b[0m\n\u001b[1;32m   1377\u001b[0m                 \u001b[0mself\u001b[0m\u001b[0;34m.\u001b[0m\u001b[0mclose\u001b[0m\u001b[0;34m(\u001b[0m\u001b[0;34m)\u001b[0m\u001b[0;34m\u001b[0m\u001b[0;34m\u001b[0m\u001b[0m\n",
            "\u001b[0;32m/usr/lib/python3.10/http/client.py\u001b[0m in \u001b[0;36mbegin\u001b[0;34m(self)\u001b[0m\n\u001b[1;32m    316\u001b[0m         \u001b[0;31m# read until we get a non-100 response\u001b[0m\u001b[0;34m\u001b[0m\u001b[0;34m\u001b[0m\u001b[0m\n\u001b[1;32m    317\u001b[0m         \u001b[0;32mwhile\u001b[0m \u001b[0;32mTrue\u001b[0m\u001b[0;34m:\u001b[0m\u001b[0;34m\u001b[0m\u001b[0;34m\u001b[0m\u001b[0m\n\u001b[0;32m--> 318\u001b[0;31m             \u001b[0mversion\u001b[0m\u001b[0;34m,\u001b[0m \u001b[0mstatus\u001b[0m\u001b[0;34m,\u001b[0m \u001b[0mreason\u001b[0m \u001b[0;34m=\u001b[0m \u001b[0mself\u001b[0m\u001b[0;34m.\u001b[0m\u001b[0m_read_status\u001b[0m\u001b[0;34m(\u001b[0m\u001b[0;34m)\u001b[0m\u001b[0;34m\u001b[0m\u001b[0;34m\u001b[0m\u001b[0m\n\u001b[0m\u001b[1;32m    319\u001b[0m             \u001b[0;32mif\u001b[0m \u001b[0mstatus\u001b[0m \u001b[0;34m!=\u001b[0m \u001b[0mCONTINUE\u001b[0m\u001b[0;34m:\u001b[0m\u001b[0;34m\u001b[0m\u001b[0;34m\u001b[0m\u001b[0m\n\u001b[1;32m    320\u001b[0m                 \u001b[0;32mbreak\u001b[0m\u001b[0;34m\u001b[0m\u001b[0;34m\u001b[0m\u001b[0m\n",
            "\u001b[0;32m/usr/lib/python3.10/http/client.py\u001b[0m in \u001b[0;36m_read_status\u001b[0;34m(self)\u001b[0m\n\u001b[1;32m    277\u001b[0m \u001b[0;34m\u001b[0m\u001b[0m\n\u001b[1;32m    278\u001b[0m     \u001b[0;32mdef\u001b[0m \u001b[0m_read_status\u001b[0m\u001b[0;34m(\u001b[0m\u001b[0mself\u001b[0m\u001b[0;34m)\u001b[0m\u001b[0;34m:\u001b[0m\u001b[0;34m\u001b[0m\u001b[0;34m\u001b[0m\u001b[0m\n\u001b[0;32m--> 279\u001b[0;31m         \u001b[0mline\u001b[0m \u001b[0;34m=\u001b[0m \u001b[0mstr\u001b[0m\u001b[0;34m(\u001b[0m\u001b[0mself\u001b[0m\u001b[0;34m.\u001b[0m\u001b[0mfp\u001b[0m\u001b[0;34m.\u001b[0m\u001b[0mreadline\u001b[0m\u001b[0;34m(\u001b[0m\u001b[0m_MAXLINE\u001b[0m \u001b[0;34m+\u001b[0m \u001b[0;36m1\u001b[0m\u001b[0;34m)\u001b[0m\u001b[0;34m,\u001b[0m \u001b[0;34m\"iso-8859-1\"\u001b[0m\u001b[0;34m)\u001b[0m\u001b[0;34m\u001b[0m\u001b[0;34m\u001b[0m\u001b[0m\n\u001b[0m\u001b[1;32m    280\u001b[0m         \u001b[0;32mif\u001b[0m \u001b[0mlen\u001b[0m\u001b[0;34m(\u001b[0m\u001b[0mline\u001b[0m\u001b[0;34m)\u001b[0m \u001b[0;34m>\u001b[0m \u001b[0m_MAXLINE\u001b[0m\u001b[0;34m:\u001b[0m\u001b[0;34m\u001b[0m\u001b[0;34m\u001b[0m\u001b[0m\n\u001b[1;32m    281\u001b[0m             \u001b[0;32mraise\u001b[0m \u001b[0mLineTooLong\u001b[0m\u001b[0;34m(\u001b[0m\u001b[0;34m\"status line\"\u001b[0m\u001b[0;34m)\u001b[0m\u001b[0;34m\u001b[0m\u001b[0;34m\u001b[0m\u001b[0m\n",
            "\u001b[0;32m/usr/lib/python3.10/socket.py\u001b[0m in \u001b[0;36mreadinto\u001b[0;34m(self, b)\u001b[0m\n\u001b[1;32m    703\u001b[0m         \u001b[0;32mwhile\u001b[0m \u001b[0;32mTrue\u001b[0m\u001b[0;34m:\u001b[0m\u001b[0;34m\u001b[0m\u001b[0;34m\u001b[0m\u001b[0m\n\u001b[1;32m    704\u001b[0m             \u001b[0;32mtry\u001b[0m\u001b[0;34m:\u001b[0m\u001b[0;34m\u001b[0m\u001b[0;34m\u001b[0m\u001b[0m\n\u001b[0;32m--> 705\u001b[0;31m                 \u001b[0;32mreturn\u001b[0m \u001b[0mself\u001b[0m\u001b[0;34m.\u001b[0m\u001b[0m_sock\u001b[0m\u001b[0;34m.\u001b[0m\u001b[0mrecv_into\u001b[0m\u001b[0;34m(\u001b[0m\u001b[0mb\u001b[0m\u001b[0;34m)\u001b[0m\u001b[0;34m\u001b[0m\u001b[0;34m\u001b[0m\u001b[0m\n\u001b[0m\u001b[1;32m    706\u001b[0m             \u001b[0;32mexcept\u001b[0m \u001b[0mtimeout\u001b[0m\u001b[0;34m:\u001b[0m\u001b[0;34m\u001b[0m\u001b[0;34m\u001b[0m\u001b[0m\n\u001b[1;32m    707\u001b[0m                 \u001b[0mself\u001b[0m\u001b[0;34m.\u001b[0m\u001b[0m_timeout_occurred\u001b[0m \u001b[0;34m=\u001b[0m \u001b[0;32mTrue\u001b[0m\u001b[0;34m\u001b[0m\u001b[0;34m\u001b[0m\u001b[0m\n",
            "\u001b[0;32m/usr/lib/python3.10/ssl.py\u001b[0m in \u001b[0;36mrecv_into\u001b[0;34m(self, buffer, nbytes, flags)\u001b[0m\n\u001b[1;32m   1272\u001b[0m                   \u001b[0;34m\"non-zero flags not allowed in calls to recv_into() on %s\"\u001b[0m \u001b[0;34m%\u001b[0m\u001b[0;34m\u001b[0m\u001b[0;34m\u001b[0m\u001b[0m\n\u001b[1;32m   1273\u001b[0m                   self.__class__)\n\u001b[0;32m-> 1274\u001b[0;31m             \u001b[0;32mreturn\u001b[0m \u001b[0mself\u001b[0m\u001b[0;34m.\u001b[0m\u001b[0mread\u001b[0m\u001b[0;34m(\u001b[0m\u001b[0mnbytes\u001b[0m\u001b[0;34m,\u001b[0m \u001b[0mbuffer\u001b[0m\u001b[0;34m)\u001b[0m\u001b[0;34m\u001b[0m\u001b[0;34m\u001b[0m\u001b[0m\n\u001b[0m\u001b[1;32m   1275\u001b[0m         \u001b[0;32melse\u001b[0m\u001b[0;34m:\u001b[0m\u001b[0;34m\u001b[0m\u001b[0;34m\u001b[0m\u001b[0m\n\u001b[1;32m   1276\u001b[0m             \u001b[0;32mreturn\u001b[0m \u001b[0msuper\u001b[0m\u001b[0;34m(\u001b[0m\u001b[0;34m)\u001b[0m\u001b[0;34m.\u001b[0m\u001b[0mrecv_into\u001b[0m\u001b[0;34m(\u001b[0m\u001b[0mbuffer\u001b[0m\u001b[0;34m,\u001b[0m \u001b[0mnbytes\u001b[0m\u001b[0;34m,\u001b[0m \u001b[0mflags\u001b[0m\u001b[0;34m)\u001b[0m\u001b[0;34m\u001b[0m\u001b[0;34m\u001b[0m\u001b[0m\n",
            "\u001b[0;32m/usr/lib/python3.10/ssl.py\u001b[0m in \u001b[0;36mread\u001b[0;34m(self, len, buffer)\u001b[0m\n\u001b[1;32m   1128\u001b[0m         \u001b[0;32mtry\u001b[0m\u001b[0;34m:\u001b[0m\u001b[0;34m\u001b[0m\u001b[0;34m\u001b[0m\u001b[0m\n\u001b[1;32m   1129\u001b[0m             \u001b[0;32mif\u001b[0m \u001b[0mbuffer\u001b[0m \u001b[0;32mis\u001b[0m \u001b[0;32mnot\u001b[0m \u001b[0;32mNone\u001b[0m\u001b[0;34m:\u001b[0m\u001b[0;34m\u001b[0m\u001b[0;34m\u001b[0m\u001b[0m\n\u001b[0;32m-> 1130\u001b[0;31m                 \u001b[0;32mreturn\u001b[0m \u001b[0mself\u001b[0m\u001b[0;34m.\u001b[0m\u001b[0m_sslobj\u001b[0m\u001b[0;34m.\u001b[0m\u001b[0mread\u001b[0m\u001b[0;34m(\u001b[0m\u001b[0mlen\u001b[0m\u001b[0;34m,\u001b[0m \u001b[0mbuffer\u001b[0m\u001b[0;34m)\u001b[0m\u001b[0;34m\u001b[0m\u001b[0;34m\u001b[0m\u001b[0m\n\u001b[0m\u001b[1;32m   1131\u001b[0m             \u001b[0;32melse\u001b[0m\u001b[0;34m:\u001b[0m\u001b[0;34m\u001b[0m\u001b[0;34m\u001b[0m\u001b[0m\n\u001b[1;32m   1132\u001b[0m                 \u001b[0;32mreturn\u001b[0m \u001b[0mself\u001b[0m\u001b[0;34m.\u001b[0m\u001b[0m_sslobj\u001b[0m\u001b[0;34m.\u001b[0m\u001b[0mread\u001b[0m\u001b[0;34m(\u001b[0m\u001b[0mlen\u001b[0m\u001b[0;34m)\u001b[0m\u001b[0;34m\u001b[0m\u001b[0;34m\u001b[0m\u001b[0m\n",
            "\u001b[0;31mKeyboardInterrupt\u001b[0m: "
          ]
        }
      ],
      "source": [
        "Carol = carol_connect(\n",
        "    config_json['authentication_config']['username'],\n",
        "    config_json['authentication_config']['password'],\n",
        "    config_json['authentication_config']['organization'],\n",
        "    config_json['authentication_config']['tenantName'])\n",
        "\n",
        "print('If you are using Google Colaboratory, remember to refresh the contents of working folder after script execution!')\n",
        "\n",
        "bq = get_data_bq(Carol, config_json[\"script_config\"][\"staging\"])\n",
        "\n",
        "la = DataModelGenerator(Carol)\n",
        "\n",
        "with open(f'./{config_json[\"script_config\"][\"staging\"]}.json', encoding=\"utf-8\") as d:\n",
        "    data = json.loads(d.read())[0]\n",
        "print(data)\n",
        "\n",
        "la.start(data, dm_name=config_json[\"script_config\"][\"datamodel\"], profile_title=config_json[\"script_config\"][\"profile_title\"], publish=True, overwrite=True)\n",
        "\n"
      ]
    }
  ],
  "metadata": {
    "colab": {
      "provenance": [],
      "include_colab_link": true
    },
    "kernelspec": {
      "display_name": "Python 3.9.6 64-bit",
      "language": "python",
      "name": "python3"
    },
    "language_info": {
      "codemirror_mode": {
        "name": "ipython",
        "version": 3
      },
      "file_extension": ".py",
      "mimetype": "text/x-python",
      "name": "python",
      "nbconvert_exporter": "python",
      "pygments_lexer": "ipython3",
      "version": "3.9.6"
    },
    "vscode": {
      "interpreter": {
        "hash": "31f2aee4e71d21fbe5cf8b01ff0e069b9275f58929596ceb00d14d90e3e16cd6"
      }
    }
  },
  "nbformat": 4,
  "nbformat_minor": 0
}