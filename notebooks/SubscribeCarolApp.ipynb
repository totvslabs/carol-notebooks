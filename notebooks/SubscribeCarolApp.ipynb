{
  "cells": [
    {
      "cell_type": "markdown",
      "metadata": {
        "colab_type": "text",
        "id": "view-in-github"
      },
      "source": [
        "<a href=\"https://colab.research.google.com/github/totvslabs/carol-notebooks/blob/main/notebooks/SubscribeCarolApp.ipynb\" target=\"_parent\"><img src=\"https://colab.research.google.com/assets/colab-badge.svg\" alt=\"Open In Colab\"/></a>"
      ]
    },
    {
      "cell_type": "markdown",
      "metadata": {
        "id": "94Lx9ZN-mEUm"
      },
      "source": [
        "## Subscribe Carol App\n",
        "`This notebook will subscribe a Carol App to the latest version in the given tenants. To complete the installation/update process you will need to run the second notebook called \"Publish Carol App\" after installations were successful.`\n",
        "`The script will ask for the following json on execution:`\n",
        "\n",
        "```python\n",
        "{\n",
        "    \"authentication_config\" : {\n",
        "        \"username\": \"username@totvs.com.br\",\n",
        "        \"password\": \"password\",\n",
        "        \"organization\": \"YourOrganization\",\n",
        "        \"tenantName\": \"YourTenantName\"\n",
        "    },\n",
        "    \"script_config\" : {\n",
        "        \"carolAppName\": \"myCarolAppName\",\n",
        "        \"carolAppId\": \"carolAppIdFromDevTenant\",\n",
        "        \"latestVersion\": \"0.0.32\",\n",
        "        \"tenantsToUpdate\": [\n",
        "          \"tenant1\",\n",
        "          \"tenant2\"\n",
        "        ]\n",
        "    }\n",
        "}\n",
        "```\n",
        "`You need TENANT ADMIN permissions to run this script.`"
      ]
    },
    {
      "cell_type": "markdown",
      "metadata": {
        "id": "SGr8UMJAmTyL"
      },
      "source": [
        "#### REQUIREMENTS\n",
        "`These are the packages the script needs before execution.`"
      ]
    },
    {
      "cell_type": "code",
      "execution_count": 1,
      "metadata": {
        "id": "xGCFQ_gkb7Gb"
      },
      "outputs": [],
      "source": [
        "%%capture\n",
        "!pip install --quiet pycarol==\"2.54.0\"\n",
        "from pycarol import PwdAuth, Carol\n",
        "import json, sys"
      ]
    },
    {
      "cell_type": "markdown",
      "metadata": {
        "id": "ZC9HGBm0oKQD"
      },
      "source": [
        "#### CAROL LOGIN FUNCTIONS\n",
        "`These are the functions made to login into Carol. They will be the same for all notebooks (ideally) and will use pyCarol.` \n",
        "\n",
        "[pyCarol reference](https://github.com/totvslabs/pyCarol)"
      ]
    },
    {
      "cell_type": "code",
      "execution_count": 2,
      "metadata": {
        "id": "jtOSLY0wbwCR"
      },
      "outputs": [],
      "source": [
        "def carol_connect(username, password, organization, tenantName):\n",
        "    print(f\"Connecting to Carol tenant {tenantName}... \", end=\"\\n\")\n",
        "\n",
        "    return Carol(domain=tenantName,\n",
        "                auth=PwdAuth(username, password), organization=organization)"
      ]
    },
    {
      "cell_type": "markdown",
      "metadata": {
        "id": "QKirpB34P3RA"
      },
      "source": [
        "#### SCRIPT FUNCTIONS\n",
        "`If the script requires more functions to execute, they will be here.`"
      ]
    },
    {
      "cell_type": "code",
      "execution_count": 3,
      "metadata": {
        "id": "Ri8l1ItWtr_f"
      },
      "outputs": [],
      "source": [
        "def check_installed_apps(carolObject):\n",
        "    uri = f\"v1/tenantApps?pageSize=-1\"\n",
        "\n",
        "    try:\n",
        "        return carolObject.call_api(uri, \"GET\")\n",
        "    except:\n",
        "        return {\"error\" : str(sys.exc_info()[1])}\n",
        "\n",
        "def subscribe_app(carolAppId, carolObject):\n",
        "    uri = f\"v3/tenantApps/subscribe/carolApps/{carolAppId}\"\n",
        "\n",
        "    try:\n",
        "        return carolObject.call_api(uri, \"POST\")\n",
        "    except:\n",
        "        return {\"error\" : str(sys.exc_info()[1])}"
      ]
    },
    {
      "cell_type": "markdown",
      "metadata": {
        "id": "NJXcZW9_oPP2"
      },
      "source": [
        "#### CONFIGURATION FILE\n",
        "`Now you will need to upload the configuration file with the format given above.`"
      ]
    },
    {
      "cell_type": "code",
      "execution_count": 4,
      "metadata": {
        "colab": {
          "base_uri": "https://localhost:8080/",
          "height": 333
        },
        "id": "NOngnE5qb2kb",
        "outputId": "5343bd3a-a7f8-49d1-bc98-744bc0088f98"
      },
      "outputs": [
        {
          "data": {
            "text/html": [
              "\n",
              "     <input type=\"file\" id=\"files-44004041-509e-42e8-b88d-253b1487d201\" name=\"files[]\" multiple disabled\n",
              "        style=\"border:none\" />\n",
              "     <output id=\"result-44004041-509e-42e8-b88d-253b1487d201\">\n",
              "      Upload widget is only available when the cell has been executed in the\n",
              "      current browser session. Please rerun this cell to enable.\n",
              "      </output>\n",
              "      <script>// Copyright 2017 Google LLC\n",
              "//\n",
              "// Licensed under the Apache License, Version 2.0 (the \"License\");\n",
              "// you may not use this file except in compliance with the License.\n",
              "// You may obtain a copy of the License at\n",
              "//\n",
              "//      http://www.apache.org/licenses/LICENSE-2.0\n",
              "//\n",
              "// Unless required by applicable law or agreed to in writing, software\n",
              "// distributed under the License is distributed on an \"AS IS\" BASIS,\n",
              "// WITHOUT WARRANTIES OR CONDITIONS OF ANY KIND, either express or implied.\n",
              "// See the License for the specific language governing permissions and\n",
              "// limitations under the License.\n",
              "\n",
              "/**\n",
              " * @fileoverview Helpers for google.colab Python module.\n",
              " */\n",
              "(function(scope) {\n",
              "function span(text, styleAttributes = {}) {\n",
              "  const element = document.createElement('span');\n",
              "  element.textContent = text;\n",
              "  for (const key of Object.keys(styleAttributes)) {\n",
              "    element.style[key] = styleAttributes[key];\n",
              "  }\n",
              "  return element;\n",
              "}\n",
              "\n",
              "// Max number of bytes which will be uploaded at a time.\n",
              "const MAX_PAYLOAD_SIZE = 100 * 1024;\n",
              "\n",
              "function _uploadFiles(inputId, outputId) {\n",
              "  const steps = uploadFilesStep(inputId, outputId);\n",
              "  const outputElement = document.getElementById(outputId);\n",
              "  // Cache steps on the outputElement to make it available for the next call\n",
              "  // to uploadFilesContinue from Python.\n",
              "  outputElement.steps = steps;\n",
              "\n",
              "  return _uploadFilesContinue(outputId);\n",
              "}\n",
              "\n",
              "// This is roughly an async generator (not supported in the browser yet),\n",
              "// where there are multiple asynchronous steps and the Python side is going\n",
              "// to poll for completion of each step.\n",
              "// This uses a Promise to block the python side on completion of each step,\n",
              "// then passes the result of the previous step as the input to the next step.\n",
              "function _uploadFilesContinue(outputId) {\n",
              "  const outputElement = document.getElementById(outputId);\n",
              "  const steps = outputElement.steps;\n",
              "\n",
              "  const next = steps.next(outputElement.lastPromiseValue);\n",
              "  return Promise.resolve(next.value.promise).then((value) => {\n",
              "    // Cache the last promise value to make it available to the next\n",
              "    // step of the generator.\n",
              "    outputElement.lastPromiseValue = value;\n",
              "    return next.value.response;\n",
              "  });\n",
              "}\n",
              "\n",
              "/**\n",
              " * Generator function which is called between each async step of the upload\n",
              " * process.\n",
              " * @param {string} inputId Element ID of the input file picker element.\n",
              " * @param {string} outputId Element ID of the output display.\n",
              " * @return {!Iterable<!Object>} Iterable of next steps.\n",
              " */\n",
              "function* uploadFilesStep(inputId, outputId) {\n",
              "  const inputElement = document.getElementById(inputId);\n",
              "  inputElement.disabled = false;\n",
              "\n",
              "  const outputElement = document.getElementById(outputId);\n",
              "  outputElement.innerHTML = '';\n",
              "\n",
              "  const pickedPromise = new Promise((resolve) => {\n",
              "    inputElement.addEventListener('change', (e) => {\n",
              "      resolve(e.target.files);\n",
              "    });\n",
              "  });\n",
              "\n",
              "  const cancel = document.createElement('button');\n",
              "  inputElement.parentElement.appendChild(cancel);\n",
              "  cancel.textContent = 'Cancel upload';\n",
              "  const cancelPromise = new Promise((resolve) => {\n",
              "    cancel.onclick = () => {\n",
              "      resolve(null);\n",
              "    };\n",
              "  });\n",
              "\n",
              "  // Wait for the user to pick the files.\n",
              "  const files = yield {\n",
              "    promise: Promise.race([pickedPromise, cancelPromise]),\n",
              "    response: {\n",
              "      action: 'starting',\n",
              "    }\n",
              "  };\n",
              "\n",
              "  cancel.remove();\n",
              "\n",
              "  // Disable the input element since further picks are not allowed.\n",
              "  inputElement.disabled = true;\n",
              "\n",
              "  if (!files) {\n",
              "    return {\n",
              "      response: {\n",
              "        action: 'complete',\n",
              "      }\n",
              "    };\n",
              "  }\n",
              "\n",
              "  for (const file of files) {\n",
              "    const li = document.createElement('li');\n",
              "    li.append(span(file.name, {fontWeight: 'bold'}));\n",
              "    li.append(span(\n",
              "        `(${file.type || 'n/a'}) - ${file.size} bytes, ` +\n",
              "        `last modified: ${\n",
              "            file.lastModifiedDate ? file.lastModifiedDate.toLocaleDateString() :\n",
              "                                    'n/a'} - `));\n",
              "    const percent = span('0% done');\n",
              "    li.appendChild(percent);\n",
              "\n",
              "    outputElement.appendChild(li);\n",
              "\n",
              "    const fileDataPromise = new Promise((resolve) => {\n",
              "      const reader = new FileReader();\n",
              "      reader.onload = (e) => {\n",
              "        resolve(e.target.result);\n",
              "      };\n",
              "      reader.readAsArrayBuffer(file);\n",
              "    });\n",
              "    // Wait for the data to be ready.\n",
              "    let fileData = yield {\n",
              "      promise: fileDataPromise,\n",
              "      response: {\n",
              "        action: 'continue',\n",
              "      }\n",
              "    };\n",
              "\n",
              "    // Use a chunked sending to avoid message size limits. See b/62115660.\n",
              "    let position = 0;\n",
              "    do {\n",
              "      const length = Math.min(fileData.byteLength - position, MAX_PAYLOAD_SIZE);\n",
              "      const chunk = new Uint8Array(fileData, position, length);\n",
              "      position += length;\n",
              "\n",
              "      const base64 = btoa(String.fromCharCode.apply(null, chunk));\n",
              "      yield {\n",
              "        response: {\n",
              "          action: 'append',\n",
              "          file: file.name,\n",
              "          data: base64,\n",
              "        },\n",
              "      };\n",
              "\n",
              "      let percentDone = fileData.byteLength === 0 ?\n",
              "          100 :\n",
              "          Math.round((position / fileData.byteLength) * 100);\n",
              "      percent.textContent = `${percentDone}% done`;\n",
              "\n",
              "    } while (position < fileData.byteLength);\n",
              "  }\n",
              "\n",
              "  // All done.\n",
              "  yield {\n",
              "    response: {\n",
              "      action: 'complete',\n",
              "    }\n",
              "  };\n",
              "}\n",
              "\n",
              "scope.google = scope.google || {};\n",
              "scope.google.colab = scope.google.colab || {};\n",
              "scope.google.colab._files = {\n",
              "  _uploadFiles,\n",
              "  _uploadFilesContinue,\n",
              "};\n",
              "})(self);\n",
              "</script> "
            ],
            "text/plain": [
              "<IPython.core.display.HTML object>"
            ]
          },
          "metadata": {},
          "output_type": "display_data"
        },
        {
          "name": "stdout",
          "output_type": "stream",
          "text": [
            "Saving carol.json to carol.json\n",
            "{\n",
            "  \"authentication_config\": {\n",
            "    \"username\": \"breno.zipoli@totvs.com.br\",\n",
            "    \"organization\": \"datascience\",\n",
            "    \"tenantName\": \"brenopapaunif\"\n",
            "  },\n",
            "  \"script_config\": {\n",
            "    \"carolAppName\": \"openflights\",\n",
            "    \"carolAppId\": \"238bb070998a4ebdb6d79160978b2811\",\n",
            "    \"latestVersion\": \"0.0.34\",\n",
            "    \"tenantsToUpdate\": [\n",
            "      \"brenopapanewname\"\n",
            "    ]\n",
            "  }\n",
            "}\n"
          ]
        }
      ],
      "source": [
        "try:\n",
        "    from google.colab import files\n",
        "    config_file = files.upload()\n",
        "    config_json = json.loads(config_file[next(iter(config_file))].decode(\"utf-8\"))\n",
        "    config_json_print = json.loads(config_file[next(iter(config_file))].decode(\"utf-8\"))\n",
        "except:\n",
        "    with open('./carol.json') as config_file:\n",
        "        config_json = json.loads(config_file.read())\n",
        "        config_json_print = json.loads(config_file.read())\n",
        "    config_file.close()\n",
        "finally:\n",
        "    del config_json_print['authentication_config']['password']\n",
        "    print(json.dumps(config_json_print, indent=2))"
      ]
    },
    {
      "cell_type": "markdown",
      "metadata": {
        "id": "73_5mMXgoWXH"
      },
      "source": [
        "#### SCRIPT EXECUTION\n",
        "`The main execution of the script will happen here.`"
      ]
    },
    {
      "cell_type": "code",
      "execution_count": 5,
      "metadata": {
        "colab": {
          "base_uri": "https://localhost:8080/"
        },
        "id": "ySIOBMCpvac1",
        "outputId": "9bdff023-487c-4bde-9012-3ebaeeb4420e"
      },
      "outputs": [
        {
          "name": "stdout",
          "output_type": "stream",
          "text": [
            "Starting process for brenopapanewname...\n",
            "Connecting to Carol tenant brenopapanewname... \n",
            "{'aggs': {}, 'count': 1, 'empty': False, 'hits': [{'mdmAppIconUrl': 'https://cdn.carol.ai/static/carolApps/icons/carolApp--b.png', 'mdmAppPictureUrl': [], 'mdmAppPoweredBy': {'en-US': 'Carol'}, 'mdmAppSubscriptionUrl': '/apps/openflights/0.0.33/index.html', 'mdmAppVersion': '0.0.33', 'mdmCarolAppId': '8cbcba63325d49faacb5ea792d1bc641', 'mdmConnectorGroupSelected': None, 'mdmCreated': '2023-01-04T19:54:16.234Z', 'mdmCreatedUser': 'breno.zipoli@totvs.com.br', 'mdmDescription': {'en-US': 'DE Team challenge app - breno.zipoli'}, 'mdmEntityType': 'mdmTenantApp', 'mdmId': '64c4d3285aed4f21906d8f2bd5a35888', 'mdmInstallationTaskId': '43031fad0e5845739959282dc2b9d5ac', 'mdmInstallationTaskStatus': 'COMPLETED', 'mdmLabel': {'en-US': 'openflights'}, 'mdmLastUpdated': '2023-03-23T14:29:15.665Z', 'mdmName': 'openflights', 'mdmPipelineAllowedEnvironments': [], 'mdmPipelineCommitId': None, 'mdmPipelineLastFetchDate': None, 'mdmPipelineRepository': None, 'mdmStatus': 'ACTIVE', 'mdmTenantId': 'aa2a61d2ba184b2b87ebf1b55a8651d9', 'mdmUpdatedUser': 'breno.zipoli@totvs.com.br', 'score': None}], 'scrollId': None, 'took': 0, 'totalHits': 1}\n",
            "Tenant brenopapanewname subscribed app openflights version 0.0.33!! Use the other notebook to publish it after installation!\n"
          ]
        }
      ],
      "source": [
        "for tenant in config_json['script_config']['tenantsToUpdate']:\n",
        "    print(f'Starting process for {tenant}...')\n",
        "\n",
        "    Carol = carol_connect(\n",
        "    config_json['authentication_config']['username'], \n",
        "    config_json['authentication_config']['password'], \n",
        "    config_json['authentication_config']['organization'], \n",
        "    tenant)\n",
        "\n",
        "    apps_installed = check_installed_apps(Carol)\n",
        "    if apps_installed['count'] > 0:\n",
        "      for app in apps_installed['hits']:\n",
        "        if app['mdmName'] == config_json['script_config']['carolAppName'] and app['mdmInstallationTaskStatus'] == 'COMPLETED' and app['mdmAppVersion'] != config_json['script_config']['latestVersion']:\n",
        "          try:\n",
        "            subscribe_app(config_json['script_config']['carolAppId'], Carol)\n",
        "            print(f'Tenant {tenant} subscribed app {app[\"mdmName\"]} version {config_json[\"script_config\"][\"latestVersion\"]}!! Use the other notebook to publish it after installation!')\n",
        "          except:\n",
        "            print(f'Something went wrong... e.g: Installation not completed, wrong version of CarolApp, permissions on tenant...')\n"
      ]
    }
  ],
  "metadata": {
    "colab": {
      "include_colab_link": true,
      "provenance": []
    },
    "kernelspec": {
      "display_name": "Python 3.9.6 64-bit",
      "language": "python",
      "name": "python3"
    },
    "language_info": {
      "codemirror_mode": {
        "name": "ipython",
        "version": 3
      },
      "file_extension": ".py",
      "mimetype": "text/x-python",
      "name": "python",
      "nbconvert_exporter": "python",
      "pygments_lexer": "ipython3",
      "version": "3.9.6"
    },
    "vscode": {
      "interpreter": {
        "hash": "31f2aee4e71d21fbe5cf8b01ff0e069b9275f58929596ceb00d14d90e3e16cd6"
      }
    }
  },
  "nbformat": 4,
  "nbformat_minor": 0
}
